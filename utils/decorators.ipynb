{
 "cells": [
  {
   "cell_type": "markdown",
   "metadata": {},
   "source": [
    "### 자동 attribute 할당 데코레이터\n",
    "\n",
    "- 일일이 self.a = a 하기 귀찮은 경우 사용"
   ]
  },
  {
   "cell_type": "markdown",
   "metadata": {},
   "source": [
    "import functools\n",
    "\n",
    "def my_decorator(func):\n",
    "    @functools.wraps(func)\n",
    "    def wrapper(self, *args, **kwargs):\n",
    "\n",
    "        # args와 kwargs에서 파라미터 이름을 얻기 위해 사용\n",
    "        param_names = func.__code__.co_varnames[1:func.__code__.co_argcount]\n",
    "        params = dict(zip(param_names, args))  # 위치인자 처리\n",
    "        print(params)\n",
    "        params.update(kwargs)  # 키워드 인자 업데이트\n",
    "\n",
    "        for key, value in params.items():\n",
    "            setattr(self, key, value)\n",
    "\n",
    "        func(self, *args, **kwargs)  # 먼저 원래의 초기화 함수를 실행합니다.\n",
    "    return wrapper\n",
    "\n",
    "class SimpleLoss(nn.Module):\n",
    "    @my_decorator\n",
    "    def __init__(self, domain_rgb, l1_lambda, l2_lambda):\n",
    "        super().__init__()\n",
    "        # self.domain_rgb = domain_rgb\n",
    "        # self.l1_lambda = l1_lambda\n",
    "        # self.l2_lambd = l2_lambd\n",
    "        # 이게 없어도 할당됨\n",
    "        # 추가적인 초기화 코드가 여기에 포함될 수 있습니다.\n",
    "        self.l1_loss = nn.L1Loss() if self.l1_lambda != 0 else None\n",
    "        self.l2_loss = nn.MSELoss() if self.l2_lambda != 0 else None\n",
    "\n",
    "# 테스트\n",
    "SimpleLoss(1, 2, 3)\n",
    "t = {'domain_rgb' : 1, 'l1_lambda' : 2, 'l2_lambda' : 3}\n",
    "SimpleLoss(**vars(t))"
   ]
  }
 ],
 "metadata": {
  "language_info": {
   "name": "python"
  }
 },
 "nbformat": 4,
 "nbformat_minor": 2
}
