{
 "cells": [
  {
   "cell_type": "code",
   "execution_count": null,
   "metadata": {
    "vscode": {
     "languageId": "plaintext"
    }
   },
   "outputs": [],
   "source": [
    "from PIL import Image\n",
    "from torchvision.transforms import RandomCrop, RandomResizedCrop\n",
    "\n",
    "\n",
    "img = Image.open('/workspace/0_practice/torch/astronaut.jpg')\n",
    "print(img.size)\n",
    "crop = RandomResizedCrop(256)\n",
    "img2 = crop(img)\n",
    "print(img2.size)"
   ]
  }
 ],
 "metadata": {
  "language_info": {
   "name": "python"
  }
 },
 "nbformat": 4,
 "nbformat_minor": 2
}
