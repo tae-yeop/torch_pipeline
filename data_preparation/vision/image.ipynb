{
 "cells": [
  {
   "cell_type": "code",
   "execution_count": null,
   "metadata": {},
   "outputs": [],
   "source": [
    "import os\n",
    "from glob import glob\n"
   ]
  },
  {
   "cell_type": "code",
   "execution_count": null,
   "metadata": {},
   "outputs": [],
   "source": [
    "means = [0.485, 0.456, 0.406]\n",
    "stds = [0.229, 0.224, 0.225]\n",
    "\n",
    "t_stds = torch.tensor(stds).cuda().half()[:,None,None]\n",
    "t_means = torch.tensor(means).cuda().half()[:,None,None]\n",
    "\n",
    "img_transforms = transforms.Compose([                        \n",
    "            transforms.ToTensor(),\n",
    "            transforms.Normalize(means,stds)])\n",
    " \n",
    "def tensor2im(var):\n",
    "     return var.mul(t_stds).add(t_means).mul(255.).clamp(0,255).permute(1,2,0)\n",
    "\n",
    "def proc_pil_img(input_image, model):\n",
    "    transformed_image = img_transforms(input_image)[None,...].cuda().half()\n",
    "            \n",
    "    with torch.no_grad():\n",
    "        result_image = model(transformed_image)[0]; print(result_image.shape)\n",
    "        output_image = tensor2im(result_image)\n",
    "        output_image = output_image.detach().cpu().numpy().astype('uint8')\n",
    "        output_image = PIL.Image.fromarray(output_image)\n",
    "    return output_image\n"
   ]
  },
  {
   "cell_type": "code",
   "execution_count": null,
   "metadata": {},
   "outputs": [],
   "source": [
    "def process(src_path, dest_path):\n",
    "  in_files = sorted(glob(f'{src_path}/*'))\n",
    "  for img in tqdm(in_files):\n",
    "    out = f\"{dest_path}/{img.split('/')[-1].split('.')[0]}.jpg\"\n",
    "    im = PIL.Image.open(img).resize((512, 512)).convert(\"RGB\") \n",
    "    im = scale_by_face_size(im, target_face=300, max_res=1_500_000, max_upscale=1)\n",
    "    res = proc_pil_img(im, model)\n",
    "    res.save(out)\n"
   ]
  },
  {
   "cell_type": "markdown",
   "metadata": {},
   "source": [
    "## 텐서를 이미지로"
   ]
  },
  {
   "cell_type": "code",
   "execution_count": 7,
   "metadata": {},
   "outputs": [],
   "source": [
    "import torch\n",
    "import numpy as np\n",
    "from PIL import Image\n",
    "def tensor2im(x) -> Image.Image:\n",
    "    # x: [C, H, W] or [H, W]\n",
    "    x = x.detach().cpu()\n",
    "    \n",
    "    if x.dim() == 3:\n",
    "        # [C, H, W] → [H, W, C]\n",
    "        x = x.permute(1, 2, 0)\n",
    "\n",
    "    x = x.numpy()\n",
    "    x = (x * 255).clip(0, 255).astype(np.uint8)\n",
    "\n",
    "    return Image.fromarray(x)\n",
    "\n",
    "\n",
    "x = torch.rand(3, 256, 256) # 값 범위: [0, 1] (float형)\n",
    "image = tensor2im(x)\n",
    "image.save(\"/home/torch_pipeline/data_preparation/vision/output.png\")\n"
   ]
  },
  {
   "cell_type": "code",
   "execution_count": null,
   "metadata": {},
   "outputs": [],
   "source": [
    "# PIL로 바꿔서 저장\n",
    "import torch\n",
    "from torchvision.transforms import ToPILImage\n",
    "\n",
    "tensor = torch.randn(3, 256, 256)  # 예시: 값은 [-1, 1]일 수 있음\n",
    "# 값이 [0, 1] 범위로 들어가야 PIL 변환 가능하므로 clamp 후 normalize\n",
    "tensor = (tensor - tensor.min()) / (tensor.max() - tensor.min())\n",
    "\n",
    "# 텐서를 PIL 이미지로 변환\n",
    "to_pil = ToPILImage()\n",
    "image = to_pil(tensor)\n",
    "\n",
    "# 저장\n",
    "image.save(\"output.png\")"
   ]
  },
  {
   "cell_type": "code",
   "execution_count": null,
   "metadata": {},
   "outputs": [],
   "source": [
    "# PIL 이미지를 그리드로 저장\n",
    "def image_grid(imgs:PIL.Image, rows:int, cols:int):\n",
    "    assert len(imgs) == rows*cols\n",
    "\n",
    "    w, h = imgs[0].size\n",
    "    grid = Image.new('RGB', size=(cols*w, rows*h))\n",
    "    grid_w, grid_h = grid.size\n",
    "    \n",
    "    for i, img in enumerate(imgs):\n",
    "        grid.paste(img, box=(i%cols*w, i//cols*h))\n",
    "    return grid"
   ]
  },
  {
   "cell_type": "markdown",
   "metadata": {},
   "source": [
    "## 이미지 다운"
   ]
  },
  {
   "cell_type": "code",
   "execution_count": null,
   "metadata": {},
   "outputs": [],
   "source": [
    "import requests\n",
    "from io import BytesIO\n",
    "from PIL import Image\n",
    "\n",
    "def download_image(url):\n",
    "    response = requests.get(url)\n",
    "    return Image.open(BytesIO(response.content)).convert(\"RGB\")\n",
    "\n",
    "ip_adapter_image = download_image(\"https://cdn-uploads.huggingface.co/production/uploads/1668693456211-noauth.jpeg\")\n"
   ]
  },
  {
   "cell_type": "markdown",
   "metadata": {},
   "source": [
    "### bbox 그리기"
   ]
  },
  {
   "cell_type": "code",
   "execution_count": null,
   "metadata": {},
   "outputs": [],
   "source": [
    "from PIL import Image, ImageDraw, ImageFont\n",
    "import os\n",
    "\n",
    "# 경로\n",
    "image_path = \"/purestorage/AILAB/AI_1/dataset/Objects365/images/train/objects365_v1_00000000.jpg\"\n",
    "label_path = \"/purestorage/AILAB/AI_1/dataset/Objects365/labels/train/objects365_v1_00000000.txt\"\n",
    "\n",
    "# 이미지 로드\n",
    "image = Image.open(image_path).convert(\"RGB\")\n",
    "width, height = image.size\n",
    "draw = ImageDraw.Draw(image)\n",
    "\n",
    "# 라벨 파일 열기\n",
    "with open(label_path, \"r\") as f:\n",
    "    lines = f.readlines()\n",
    "\n",
    "for line in lines:\n",
    "    parts = line.strip().split()\n",
    "    if len(parts) != 5:\n",
    "        continue\n",
    "\n",
    "    class_id, x_center, y_center, box_width, box_height = map(float, parts)\n",
    "\n",
    "    # 정규화 좌표 → 픽셀 좌표로 변환\n",
    "    x_center *= width\n",
    "    y_center *= height\n",
    "    box_width *= width\n",
    "    box_height *= height\n",
    "\n",
    "    x0 = max(x_center - box_width / 2, 0)\n",
    "    y0 = max(y_center - box_height / 2, 0)\n",
    "    x1 = min(x_center + box_width / 2, width)\n",
    "    y1 = min(y_center + box_height / 2, height)\n",
    "\n",
    "    # 박스 그리기 (굵기 강조)\n",
    "    # 20.29876000000001 260.25216 102.9964 305.77408\n",
    "    draw.rectangle([x0, y0, x1, y1], outline=\"red\", width=3)\n",
    "\n",
    "    # class_id도 텍스트로 표시\n",
    "    draw.text((x0 + 2, y0 + 2), str(int(class_id)), fill=\"yellow\")"
   ]
  },
  {
   "cell_type": "markdown",
   "metadata": {},
   "source": [
    "### 그리드 만들어서 저장"
   ]
  },
  {
   "cell_type": "markdown",
   "metadata": {},
   "source": [
    "import os\n",
    "import torch\n",
    "import torchvision.transforms as transforms\n",
    "import torchvision.utils as vutils\n",
    "from PIL import Image\n",
    "\n",
    "def resize_image(image):\n",
    "    return image.resize((256, 256))\n",
    "\n",
    "def create_image_grid(image_folder):\n",
    "    transform = transforms.ToTensor()\n",
    "\n",
    "    # 이미지를 읽고 텐서로 변환하여 리스트에 저장\n",
    "    grid_images = []\n",
    "    for i in range(0, 360, 10):\n",
    "        # 랜드마크 이미지\n",
    "        kps_image_path = os.path.join(image_folder, f'kps_{i}.png')\n",
    "        kps_image = Image.open(kps_image_path).convert('RGB').resize((256, 256))\n",
    "        grid_images.append(transform(kps_image))\n",
    "\n",
    "        # 생성된 얼굴 이미지\n",
    "        out_image_path = os.path.join(image_folder, f'out_{i}.png')\n",
    "        out_image = Image.open(out_image_path).convert('RGB').resize((256, 256))\n",
    "        grid_images.append(transform(out_image))\n",
    "\n",
    "    # 이미지들을 그리드로 만들기\n",
    "    grid = vutils.make_grid(grid_images, nrow=2, padding=2, normalize=True)\n",
    "\n",
    "    # 그리드 이미지 저장 또는 시각화\n",
    "    vutils.save_image(grid, 'combined_grid.jpg')\n",
    "\n",
    "    return grid\n",
    "\n",
    "# 이미지 개수와 이미지 폴더\n",
    "num_images = 10\n",
    "\n",
    "image_folder = '/purestorage/project/tyk/2_ImageGenProjects/InstantID'  # 이미지가 저장된 폴더 경로\n",
    "grid = create_image_grid(image_folder)"
   ]
  }
 ],
 "metadata": {
  "kernelspec": {
   "display_name": "Python 3 (ipykernel)",
   "language": "python",
   "name": "python3"
  },
  "language_info": {
   "codemirror_mode": {
    "name": "ipython",
    "version": 3
   },
   "file_extension": ".py",
   "mimetype": "text/x-python",
   "name": "python",
   "nbconvert_exporter": "python",
   "pygments_lexer": "ipython3",
   "version": "3.10.13"
  }
 },
 "nbformat": 4,
 "nbformat_minor": 2
}
