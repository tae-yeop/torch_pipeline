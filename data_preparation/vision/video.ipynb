{
 "cells": [
  {
   "cell_type": "markdown",
   "metadata": {},
   "source": [
    "### Decode\n",
    "- https://github.com/dmlc/decord\n",
    "- 비디오와 오디오를 디코딩해서 로딩할 수 있는 패키지\n",
    "- OpenCV보다 속도가 빠르다\n",
    "- 3 종류의 Reader, 1종류의 Loader\n",
    "    - VideoReader(비디오), AudioReader(오디오), AVReader(비디오 + 오디오 )\n",
    "    - VideoLoader : 배치 단위로 얻음"
   ]
  },
  {
   "cell_type": "code",
   "execution_count": null,
   "metadata": {
    "vscode": {
     "languageId": "plaintext"
    }
   },
   "outputs": [],
   "source": [
    "import decord"
   ]
  },
  {
   "cell_type": "code",
   "execution_count": null,
   "metadata": {
    "vscode": {
     "languageId": "plaintext"
    }
   },
   "outputs": [],
   "source": [
    "# from animatediff\n",
    "import decord\n",
    "decord.bridge.set_bridge('torch')\n",
    "\n",
    "from torch.utils.data import Dataset\n",
    "from einops import rearrange\n",
    "\n",
    "# 이건 하나의 영상에 대해서 수행하는 것임\n",
    "class TuneAVideoDataset(Dataset):\n",
    "    def __init__(self, \n",
    "                 ):\n",
    "        \n",
    "\n",
    "        self.prompt = prompt\n",
    "        self.prompt_ids = None\n",
    "\n",
    "        self.width = width\n",
    "        \n",
    "    def __len__(self):\n",
    "        return 1\n",
    "    \n",
    "    def __getitem__(self, index):\n",
    "        vr = decord.VideoReader(self.video_path, width=self.width, height=self.height)\n",
    "        sample_index = list(range(self.sample_start_idx, len(vr), self.sample_frame_rate))[]\n",
    "\n",
    "\n",
    "\n",
    "from tqdm import tqdm\n",
    "from einops import rearrange\n",
    "import torchvision\n",
    "import imageio\n",
    "\n",
    "# 비디오 프레임의 배치를 저장\n",
    "def save_videos_grid(videos, path, rescale=False, n_rows=6, fps=8):\n",
    "    videos = rearrange(videos, \"b c t h w -> t b c h w\")\n",
    "    outputs = []\n",
    "    # 매 timestep마다 grid를 생성\n",
    "    for x in videos:\n",
    "        # nrow : grid내의 row 갯수\n",
    "        x = torchvision.utils.make_grid(x, nrow=n_rows)\n",
    "        # channel last로 변경\n",
    "        x = x.transpose(0, 1).transpose(1, 2).squeeze(-1)\n",
    "        if rescale:\n",
    "            x = (x + 1.0) / 2.0\n",
    "        x = (x * 255).numpy().astype(np.uint8)\n",
    "        outputs.append(x)\n",
    "    os.makedirs(os.path.dirname(path), exist_ok=True)\n",
    "    imageio.mimsave(path, outputs, fps=fps)\n",
    "\n",
    "\n",
    "samples = torch.concat(samples)\n",
    "save_videos_grid(samples, f\"{savedir}/sample.gif\", n_rows=4)"
   ]
  },
  {
   "cell_type": "code",
   "execution_count": null,
   "metadata": {
    "vscode": {
     "languageId": "plaintext"
    }
   },
   "outputs": [],
   "source": []
  },
  {
   "cell_type": "markdown",
   "metadata": {},
   "source": [
    "### torchivision"
   ]
  },
  {
   "cell_type": "markdown",
   "metadata": {},
   "source": []
  },
  {
   "cell_type": "markdown",
   "metadata": {},
   "source": [
    "### mp4py"
   ]
  },
  {
   "cell_type": "code",
   "execution_count": null,
   "metadata": {
    "vscode": {
     "languageId": "plaintext"
    }
   },
   "outputs": [],
   "source": [
    "# From ToonCrafter\n",
    "\n",
    "# from PIL import Image\n",
    "# import moviepy.editor as mpy\n",
    "# import os\n",
    "\n",
    "# def convert_tga_to_mp4(input_folder, output_file, frame_rate=15):\n",
    "#     # Get the list of .tga files in the directory, sorted by name\n",
    "#     tga_files = sorted([f for f in os.listdir(input_folder) if f.endswith('.tga')])\n",
    "    \n",
    "#     # Load images using Pillow and store them in a list\n",
    "#     images = []\n",
    "#     for file in tga_files:\n",
    "#         img_path = os.path.join(input_folder, file)\n",
    "#         img = Image.open(img_path)\n",
    "#         images.append(mpy.ImageClip(img_path).set_duration(1/frame_rate))\n",
    "    \n",
    "#     # Create a video clip from the images\n",
    "#     video = mpy.concatenate_videoclips(images, method=\"compose\")\n",
    "#     video.write_videofile(output_file, fps=frame_rate, codec='libx264') # libx264 안넣으면 느리다\n",
    "\n",
    "# if __name__ == \"__main__\":\n",
    "#     # Define the input folder and output file\n",
    "#     input_folder = '/purestorage/project/tyk/9_Animation/ToonCrafter_with_SketchGuidance/tgas'\n",
    "#     output_file = 'output2.mp4'\n",
    "    \n",
    "#     # Call the function\n",
    "#     convert_tga_to_mp4(input_folder, output_file)\n",
    "\n",
    "from PIL import Image\n",
    "import moviepy.editor as mpy\n",
    "import numpy as np\n",
    "import os\n",
    "\n",
    "def convert_tga_to_png(input_folder, output_folder):\n",
    "    # Ensure the output folder exists\n",
    "    os.makedirs(output_folder, exist_ok=True)\n",
    "    \n",
    "    # Get the list of .tga files in the directory\n",
    "    tga_files = [f for f in os.listdir(input_folder) if f.endswith('.tga')]\n",
    "    \n",
    "    for file in tga_files:\n",
    "        img_path = os.path.join(input_folder, file)\n",
    "        img = Image.open(img_path)\n",
    "        # Save as PNG\n",
    "        png_path = os.path.join(output_folder, os.path.splitext(file)[0] + '.png')\n",
    "        img.save(png_path)\n",
    "        print(f'Converted {file} to {png_path}')\n",
    "\n",
    "def convert_tga_to_mp4(input_folder, output_file, frame_rate=30):\n",
    "    # Get the list of .tga files in the directory, sorted by name\n",
    "    tga_files = sorted([f for f in os.listdir(input_folder) if f.endswith('.tga')])\n",
    "    \n",
    "    # Create a list to hold the image clips\n",
    "    clips = []\n",
    "    \n",
    "    for file in tga_files:\n",
    "        img_path = os.path.join(input_folder, file)\n",
    "        # Open the image using Pillow\n",
    "        img = Image.open(img_path)\n",
    "        # Convert the image to a numpy array\n",
    "        img_array = np.array(img)\n",
    "        # Create an ImageClip from the numpy array\n",
    "        clip = mpy.ImageClip(img_array).set_duration(1/frame_rate)\n",
    "        clips.append(clip)\n",
    "    \n",
    "    # Concatenate the clips into a video\n",
    "    video = mpy.concatenate_videoclips(clips, method=\"compose\")\n",
    "    # Write the video file\n",
    "    video.write_videofile(output_file, fps=frame_rate, codec='libx264')\n",
    "\n",
    "if __name__ == \"__main__\":\n",
    "    # Define the input folder and output file\n",
    "    input_folder = '/purestorage/project/tyk/9_Animation/ToonCrafter_with_SketchGuidance/tgas'\n",
    "    # Call the function\n",
    "    convert_tga_to_mp4(input_folder, output_file='output.mp4')\n",
    "\n",
    "    # convert_tga_to_png(input_folder, output_folder='/purestorage/project/tyk/9_Animation/ToonCrafter_with_SketchGuidance/outputs')"
   ]
  },
  {
   "cell_type": "code",
   "execution_count": null,
   "metadata": {
    "vscode": {
     "languageId": "plaintext"
    }
   },
   "outputs": [],
   "source": [
    "# tga 파일에서 mp4 파일만들기\n",
    "\n",
    "from PIL import Image\n",
    "import moviepy.editor as mpy\n",
    "import os\n",
    "\n",
    "def convert_tga_to_mp4(input_folder, output_file, frame_rate=15):\n",
    "    # Get the list of .tga files in the directory, sorted by name\n",
    "    tga_files = sorted([f for f in os.listdir(input_folder) if f.endswith('.tga')])\n",
    "    \n",
    "    # Load images using Pillow and store them in a list\n",
    "    images = []\n",
    "    for file in tga_files:\n",
    "        img_path = os.path.join(input_folder, file)\n",
    "        img = Image.open(img_path)\n",
    "        images.append(mpy.ImageClip(img_path).set_duration(1/frame_rate))\n",
    "    \n",
    "    # Create a video clip from the images\n",
    "    video = mpy.concatenate_videoclips(images, method=\"compose\")\n",
    "    video.write_videofile(output_file, fps=frame_rate, codec='libx264') # libx264 안넣으면 느리다"
   ]
  },
  {
   "cell_type": "code",
   "execution_count": null,
   "metadata": {
    "vscode": {
     "languageId": "plaintext"
    }
   },
   "outputs": [],
   "source": [
    "input_folder = '/purestorage/project/tyk/9_Animation/ToonCrafter_with_SketchGuidance/tgas'\n",
    "output_file = 'output2.mp4'\n",
    "convert_tga_to_mp4(input_folder, output_file)"
   ]
  }
 ],
 "metadata": {
  "language_info": {
   "name": "python"
  }
 },
 "nbformat": 4,
 "nbformat_minor": 2
}
