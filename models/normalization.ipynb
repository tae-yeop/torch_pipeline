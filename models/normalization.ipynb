{
 "cells": [
  {
   "cell_type": "code",
   "execution_count": null,
   "metadata": {
    "vscode": {
     "languageId": "plaintext"
    }
   },
   "outputs": [],
   "source": [
    "import torch\n",
    "import matplotlib.pyplot as plt\n",
    "import seaborn as sns\n",
    "\n",
    "# 파이토치 텐서 생성\n",
    "data = torch.randn(100, 10)  # 100개의 샘플과 10개의 피처\n",
    "\n",
    "# 정규화 수행\n",
    "mean = data.mean(dim=0)\n",
    "std = data.std(dim=0)\n",
    "data_normalized = (data - mean) / std\n",
    "\n",
    "# 텐서를 NumPy 배열로 변환 (시각화를 위해)\n",
    "data_np = data.numpy()\n",
    "data_normalized_np = data_normalized.numpy()\n",
    "\n",
    "# 기술통계 출력\n",
    "print(\"Mean before normalization:\", mean)\n",
    "print(\"Standard deviation before normalization:\", std)\n",
    "print(\"Mean after normalization:\", data_normalized.mean(dim=0))\n",
    "print(\"Standard deviation after normalization:\", data_normalized.std(dim=0))\n",
    "\n",
    "# 첫 번째 피처에 대한 히스토그램 시각화\n",
    "plt.figure(figsize=(12, 6))\n",
    "plt.subplot(1, 2, 1)\n",
    "sns.histplot(data_np[:, 0], kde=True, color='blue')\n",
    "plt.title('Histogram before Normalization')\n",
    "plt.xlabel('Feature Values')\n",
    "plt.ylabel('Frequency')\n",
    "\n",
    "plt.subplot(1, 2, 2)\n",
    "sns.histplot(data_normalized_np[:, 0], kde=True, color='red')\n",
    "plt.title('Histogram after Normalization')\n",
    "plt.xlabel('Feature Values')\n",
    "plt.ylabel('Frequency')\n",
    "\n",
    "plt.tight_layout()\n",
    "# plt.show()\n",
    "\n",
    "plt.title('Sample Plot')\n",
    "plt.savefig('/workspace/0_practice/torch/features/image.png')  # 이미지 파일로 저장\n",
    "plt.close()"
   ]
  },
  {
   "cell_type": "code",
   "execution_count": null,
   "metadata": {
    "vscode": {
     "languageId": "plaintext"
    }
   },
   "outputs": [],
   "source": [
    "import torch\n",
    "import torch.nn as nn\n",
    "import matplotlib.pyplot as plt\n",
    "import seaborn as sns\n",
    "\n",
    "# 데이터 생성\n",
    "data = torch.randn(4, 3, 32, 32)  # 정규 분포에서 무작위 데이터 생성\n",
    "\n",
    "# 정규화 층 초기화\n",
    "batch_norm = nn.BatchNorm2d(3)  # 채널 수에 맞춰서\n",
    "layer_norm = nn.LayerNorm([3, 32, 32])  # 정규화할 차원을 명시\n",
    "group_norm = nn.GroupNorm(3, 3)  # 그룹 수와 채널 수\n",
    "\n",
    "# 정규화 적용\n",
    "data_bn = batch_norm(data.clone())  # 데이터를 복제하여 정규화\n",
    "data_ln = layer_norm(data.clone())\n",
    "data_gn = group_norm(data.clone())\n",
    "\n",
    "# 시각화 함수\n",
    "def plot_histogram(data, title):\n",
    "    data = data.numpy().flatten()  # 히스토그램을 위해 데이터를 1차원 배열로 변환\n",
    "    sns.histplot(data, kde=True, bins=30, color='blue')\n",
    "    plt.title(title)\n",
    "    plt.xlabel('Values')\n",
    "    plt.ylabel('Frequency')\n",
    "    plt.show()\n",
    "\n",
    "# 원본 데이터 시각화\n",
    "plt.figure(figsize=(12, 6))\n",
    "plt.subplot(2, 2, 1)\n",
    "plot_histogram(data, 'Original Data Histogram')\n",
    "\n",
    "# 배치 정규화 데이터 시각화\n",
    "plt.subplot(2, 2, 2)\n",
    "plot_histogram(data_bn, 'BatchNorm Data Histogram')\n",
    "\n",
    "# 레이어 정규화 데이터 시각화\n",
    "plt.subplot(2, 2, 3)\n",
    "plot_histogram(data_ln, 'LayerNorm Data Histogram')\n",
    "\n",
    "# 그룹 정규화 데이터 시각화\n",
    "plt.subplot(2, 2, 4)\n",
    "plot_histogram(data_gn, 'GroupNorm Data Histogram')"
   ]
  }
 ],
 "metadata": {
  "language_info": {
   "name": "python"
  }
 },
 "nbformat": 4,
 "nbformat_minor": 2
}
