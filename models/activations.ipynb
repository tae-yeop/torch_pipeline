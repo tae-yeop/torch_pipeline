{
 "cells": [
  {
   "cell_type": "markdown",
   "metadata": {},
   "source": [
    "![Image](https://vitalab.github.io/blog/images/activationfunctions/sc01.jpeg)\n",
    "\n",
    "![Image](https://www.researchgate.net/publication/373857926/figure/fig10/AS:11431281255205102@1719410280046/A-The-activation-functions-of-the-Swish-and-the-GELU-B-The-derivatives-of-Swish-and.tif)\n"
   ]
  },
  {
   "cell_type": "code",
   "execution_count": 9,
   "metadata": {},
   "outputs": [],
   "source": [
    "import torch\n",
    "import torch.nn as nn\n",
    "import torch.nn.functional as F"
   ]
  },
  {
   "cell_type": "code",
   "execution_count": 10,
   "metadata": {},
   "outputs": [],
   "source": [
    "t = torch.randn(1,2)"
   ]
  },
  {
   "cell_type": "code",
   "execution_count": 13,
   "metadata": {},
   "outputs": [
    {
     "data": {
      "text/plain": [
       "tensor([[0.3643, 0.1344]])"
      ]
     },
     "execution_count": 13,
     "metadata": {},
     "output_type": "execute_result"
    }
   ],
   "source": [
    "t.type_as(t)"
   ]
  },
  {
   "cell_type": "code",
   "execution_count": null,
   "metadata": {},
   "outputs": [],
   "source": [
    "# 함수 형태\n",
    "def nonlinearity(x):\n",
    "    # swish\n",
    "    return x*torch.sigmoid(x)"
   ]
  },
  {
   "cell_type": "code",
   "execution_count": null,
   "metadata": {},
   "outputs": [],
   "source": [
    "class GEGLU(nn.Module):\n",
    "    def forward(self, x):\n",
    "        x, gate = x.chunk(2, dim=-1)\n",
    "        return torch.nn.functional.gelu(gate) * x"
   ]
  },
  {
   "cell_type": "code",
   "execution_count": null,
   "metadata": {},
   "outputs": [],
   "source": [
    "class StarReLU(nn.Module):\n",
    "    def __init__(self, scale_value=1.0, bias_value=0.0,\n",
    "                 scale_learnable=True, bias_learnable=True,\n",
    "                 mode=None, inplace=False):\n",
    "        super().__init__()\n",
    "        self.inplace = inplace\n",
    "        self.relu = nn.ReLU(inplace=inplace)\n",
    "        self.scale = nn.Parameter(scale_value * torch.ones(1),\n",
    "            requires_grad=scale_learnable)\n",
    "        self.bias = nn.Parameter(bias_value * torch.ones(1),\n",
    "            requires_grad=bias_learnable)\n",
    "        \n",
    "    def forward(self, x):\n",
    "        return self.scale * self.relu(x)**2 + self.bias"
   ]
  },
  {
   "cell_type": "code",
   "execution_count": null,
   "metadata": {},
   "outputs": [],
   "source": [
    "nn.Sequential(LayerNorm(10),\n",
    "              nn.Linear(10, 20),\n",
    "              GEGLU(),\n",
    "              nn.Linear(10, 10)\n",
    "              )(torch.randn(3, 33, 44, 10))"
   ]
  },
  {
   "cell_type": "code",
   "execution_count": 20,
   "metadata": {},
   "outputs": [],
   "source": [
    "class SoftArgmax1D(nn.Module):\n",
    "    def __init__(self, beta=1.0):\n",
    "        \"\"\"\n",
    "        beta 큼 -> argmax에 가까워짐\n",
    "        \"\"\"\n",
    "        super().__init__()\n",
    "        self.beta = beta\n",
    "    def forward(self, x):\n",
    "        smax = F.softmax(self.beta * x, dim=1)\n",
    "        pos = torch.arange(x.size(1)).type_as(x).to(x.device)\n",
    "        return torch.sum(smax * pos, dim=1)"
   ]
  },
  {
   "cell_type": "code",
   "execution_count": 21,
   "metadata": {},
   "outputs": [
    {
     "name": "stdout",
     "output_type": "stream",
     "text": [
      "SoftArgmax 결과: tensor([2.0000, 1.5752, 3.9995])\n"
     ]
    }
   ],
   "source": [
    "softargmax_layer = SoftArgmax1D(beta=10.0)\n",
    "\n",
    "# (B, L) = (3, 5)\n",
    "x = torch.tensor([\n",
    "    [0.5, 1.2, 3.0, 2.0, 0.1],   # 첫 번째 배치\n",
    "    [2.0, 2.1, 2.2, 1.0, 0.5],   # 두 번째 배치\n",
    "    [0.0, 0.0, 0.0, 0.0, 1.0],   # 세 번째 배치\n",
    "])\n",
    "\n",
    "y = softargmax_layer(x)\n",
    "print(\"SoftArgmax 결과:\", y)"
   ]
  }
 ],
 "metadata": {
  "kernelspec": {
   "display_name": "Python 3 (ipykernel)",
   "language": "python",
   "name": "python3"
  }
 },
 "nbformat": 4,
 "nbformat_minor": 2
}
