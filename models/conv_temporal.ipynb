{
 "cells": [
  {
   "cell_type": "code",
   "execution_count": 2,
   "metadata": {},
   "outputs": [],
   "source": [
    "import torch\n",
    "import torch.nn as nn\n",
    "import torch.nn.functional as F\n"
   ]
  },
  {
   "cell_type": "markdown",
   "metadata": {},
   "source": [
    "### Dilated Inception\n",
    "\n",
    "- https://github.com/nuist-cs/MS-STGNN/blob/main/layer.py\n",
    "- https://github.com/KawaiiAsh/deepLearning-modules-toolbox/blob/main/Temporal_conv.py"
   ]
  },
  {
   "cell_type": "code",
   "execution_count": 3,
   "metadata": {},
   "outputs": [],
   "source": [
    "class dilated_inception(nn.Module):\n",
    "    \"\"\"\n",
    "    inception\n",
    "    \"\"\"\n",
    "    def __init__(self, cin, cout, dilation_factor, seq_len):\n",
    "        super().__init__()\n",
    "        self.tconv = nn.ModuleList()\n",
    "        self.padding = 0\n",
    "        self.seq_len = seq_len\n",
    "        self.kernel_set = [2,3,6,7]\n",
    "        cout = int(cout / len(self.kernel_set))\n",
    "\n",
    "        for kern in self.kernel_set: \n",
    "            self.tconv.append(nn.Conv2d(cin, cout, (1, kern), dilation=(1, dilation_factor)))\n",
    "\n",
    "        self.out = nn.Sequential(\n",
    "            nn.Linear(self.seq_len - dilation_factor * (self.kernel_set[-1] - 1) + self.padding * 2 - 1 + 1, cin),\n",
    "            nn.ReLU(),\n",
    "            nn.Linear(cin, self.seq_len)\n",
    "        )\n",
    "\n",
    "    def forward(self, input):\n",
    "        x = []\n",
    "        for i in range(len(self.kernel_set)):\n",
    "            x.append(self.tconv[i](input))\n",
    "        for i in range(len(self.kernel_set)):\n",
    "            x[i] = x[i][..., -x[-1].size(3):] \n",
    "\n",
    "        x = torch.cat(x, dim=1) \n",
    "        x = self.out(x)\n",
    "        return x"
   ]
  },
  {
   "cell_type": "code",
   "execution_count": 4,
   "metadata": {},
   "outputs": [],
   "source": [
    "class temporal_conv(nn.Module):\n",
    "    def __init__(self, cin, cout, dilation_factor, seq_len):\n",
    "        super().__init__()\n",
    "\n",
    "        self.filter_convs = dilated_inception(cin=cin, cout=cout, dilation_factor=dilation_factor, seq_len=seq_len)\n",
    "        self.gated_convs = dilated_inception(cin=cin, cout=cout, dilation_factor=dilation_factor, seq_len=seq_len)\n",
    "\n",
    "    def forward(self, X):\n",
    "        filter = self.filter_convs(X) \n",
    "        filter = torch.tanh(filter)\n",
    "        gate = self.gated_convs(X)\n",
    "        gate = torch.sigmoid(gate)\n",
    "        out = filter * gate\n",
    "        return out"
   ]
  },
  {
   "cell_type": "code",
   "execution_count": 8,
   "metadata": {},
   "outputs": [],
   "source": [
    "# (B,in_channels,height_or_nodes,time)\n",
    "# height_or_nodes: 보통 1(단순 시계열)이거나, 여러 노드(그래프 시계열)인 경우 노드 차원일 수도 있음\n",
    "X = torch.randn(1, 32, 6, 24) "
   ]
  },
  {
   "cell_type": "code",
   "execution_count": 9,
   "metadata": {},
   "outputs": [],
   "source": [
    "Model = temporal_conv(cin=32, cout=32, dilation_factor=1, seq_len=24)"
   ]
  },
  {
   "cell_type": "code",
   "execution_count": 10,
   "metadata": {},
   "outputs": [
    {
     "data": {
      "text/plain": [
       "torch.Size([1, 32, 6, 24])"
      ]
     },
     "execution_count": 10,
     "metadata": {},
     "output_type": "execute_result"
    }
   ],
   "source": [
    "out = Model(X) \n",
    "out.shape"
   ]
  },
  {
   "cell_type": "code",
   "execution_count": null,
   "metadata": {},
   "outputs": [],
   "source": []
  }
 ],
 "metadata": {
  "kernelspec": {
   "display_name": "Python 3 (ipykernel)",
   "language": "python",
   "name": "python3"
  },
  "language_info": {
   "codemirror_mode": {
    "name": "ipython",
    "version": 3
   },
   "file_extension": ".py",
   "mimetype": "text/x-python",
   "name": "python",
   "nbconvert_exporter": "python",
   "pygments_lexer": "ipython3",
   "version": "3.10.13"
  }
 },
 "nbformat": 4,
 "nbformat_minor": 2
}
