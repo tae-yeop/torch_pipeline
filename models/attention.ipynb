{
 "cells": [
  {
   "cell_type": "markdown",
   "metadata": {},
   "source": [
    "nn.Linear 내부에서 일어나는 일\n",
    "\n",
    "1. 입력 flatten\n",
    "- PyTorch F.linear는 입력을 자동으로 view(‑1, in_dim) 으로 바꿈\n",
    "- 즉 x를 (B·I·J, in_dim) 행렬로 본 뒤 연산\n",
    "\n",
    "2. 행렬 곱\t\n",
    "- y_flat = x_flat @ Wᵀ + b\n",
    "- W : (dim*3, in_dim)\n",
    "- b : (dim*3,)\n",
    "3. 원래 shape 복원\t\n",
    "- 계산된 (B·I·J, dim*3)을 .view(B, I, J, dim*3) 로 되돌림\n"
   ]
  },
  {
   "cell_type": "markdown",
   "metadata": {},
   "source": [
    "Pytorch Attention\n",
    "- 최신버전엔 flash attention 기능이 들어있음"
   ]
  },
  {
   "cell_type": "code",
   "execution_count": 1,
   "metadata": {},
   "outputs": [],
   "source": [
    "import torch\n",
    "import torch.nn.functional as F"
   ]
  },
  {
   "cell_type": "code",
   "execution_count": null,
   "metadata": {},
   "outputs": [
    {
     "name": "stdout",
     "output_type": "stream",
     "text": [
      "2.5.1+cu124\n"
     ]
    }
   ],
   "source": [
    "from packaging import version\n",
    "from functools import partial\n",
    "torch_version = version.parse(torch.__version__)\n",
    "\n",
    "print(torch_version)\n",
    "sdp_kwargs = dict(\n",
    "        enable_flash = True,\n",
    "        enable_math = True,\n",
    "        enable_mem_efficient = True\n",
    ")\n",
    "\n",
    "if torch_version >= version.parse('2.3'):\n",
    "    from torch.nn.attention import SDPBackend\n",
    "    str_to_backend = dict(\n",
    "        enable_flash = SDPBackend.FLASH_ATTENTION,\n",
    "        enable_mem_efficient = SDPBackend.EFFICIENT_ATTENTION,\n",
    "        enable_math = SDPBackend.MATH,\n",
    "        enable_cudnn = SDPBackend.CUDNN_ATTENTION\n",
    "    )\n",
    "\n",
    "    sdpa_backends = [str_to_backend[enable_str] for enable_str, enable in sdp_kwargs.items() if enable]\n",
    "    # 최신 버전 : 여러가지 백엔드 활성화를 시킬수 있음\n",
    "    sdp_context_manager = partial(torch.nn.attention.sdpa_kernel, sdpa_backends)\n",
    "else: # 폐기 예정\n",
    "    sdp_context_manager = partial(torch.backends.cuda.sdp_kernel, **sdp_kwargs)"
   ]
  },
  {
   "cell_type": "code",
   "execution_count": null,
   "metadata": {},
   "outputs": [],
   "source": [
    "# B, H, T, C/H\n",
    "q = torch.randn(2, 8, 16, 64, device=\"cuda\", dtype=torch.float16)\n",
    "k = torch.randn(2, 8, 16, 64, device=\"cuda\", dtype=torch.float16)\n",
    "v = torch.randn(2, 8, 16, 64, device=\"cuda\", dtype=torch.float16)\n",
    "mask = None"
   ]
  },
  {
   "cell_type": "code",
   "execution_count": 10,
   "metadata": {},
   "outputs": [
    {
     "name": "stdout",
     "output_type": "stream",
     "text": [
      "48.9 µs ± 503 ns per loop (mean ± std. dev. of 7 runs, 10,000 loops each)\n"
     ]
    }
   ],
   "source": [
    "%%timeit\n",
    "with sdp_context_manager():\n",
    "    out = F.scaled_dot_product_attention(q, k, v, attn_mask=mask, dropout_p=0.1)"
   ]
  },
  {
   "cell_type": "code",
   "execution_count": 6,
   "metadata": {},
   "outputs": [
    {
     "data": {
      "text/plain": [
       "torch.Size([2, 8, 16, 64])"
      ]
     },
     "execution_count": 6,
     "metadata": {},
     "output_type": "execute_result"
    }
   ],
   "source": [
    "out.shape"
   ]
  },
  {
   "cell_type": "code",
   "execution_count": 11,
   "metadata": {},
   "outputs": [],
   "source": [
    "str_to_backend = dict(\n",
    "    enable_flash = SDPBackend.FLASH_ATTENTION,\n",
    "    enable_mem_efficient = SDPBackend.EFFICIENT_ATTENTION,\n",
    "    enable_math = SDPBackend.MATH,\n",
    "    enable_cudnn = SDPBackend.CUDNN_ATTENTION\n",
    ")\n",
    "sdp_context_manager = partial(torch.backends.cuda.sdp_kernel, **sdp_kwargs)\n"
   ]
  },
  {
   "cell_type": "code",
   "execution_count": 12,
   "metadata": {},
   "outputs": [
    {
     "name": "stderr",
     "output_type": "stream",
     "text": [
      "/opt/conda/lib/python3.10/contextlib.py:103: FutureWarning: `torch.backends.cuda.sdp_kernel()` is deprecated. In the future, this context manager will be removed. Please see `torch.nn.attention.sdpa_kernel()` for the new context manager, with updated signature.\n",
      "  self.gen = func(*args, **kwds)\n"
     ]
    },
    {
     "name": "stdout",
     "output_type": "stream",
     "text": [
      "61.3 µs ± 1.27 µs per loop (mean ± std. dev. of 7 runs, 10,000 loops each)\n"
     ]
    }
   ],
   "source": [
    "%%timeit\n",
    "with sdp_context_manager():\n",
    "    out = F.scaled_dot_product_attention(q, k, v, attn_mask=mask, dropout_p=0.1)"
   ]
  },
  {
   "cell_type": "code",
   "execution_count": null,
   "metadata": {},
   "outputs": [],
   "source": [
    "import math\n",
    "class CausalSelfAttention(nn.Module):\n",
    "    def __init__(self, cfg, device):\n",
    "        super().__init__()\n",
    "        self.cfg = cfg\n",
    "        assert cfg.n_emb % cfg.n_heads == 0, \"n_emb must be divisible by n_heads\"\n",
    "\n",
    "        # Q, K, V Linear 한꺼번에 \n",
    "        self.c_attn = nn.Linear(cfg.n_emb, 3 * cfg.n_emb, bias=cfg.bias)\n",
    "\n",
    "        # Output Linear\n",
    "        self.c_proj = nn.Linear(cfg.n_emb, cfg.n_emb, bias=cfg.bias)\n",
    "\n",
    "        # regularization\n",
    "        self.attn_dropout = nn.Dropout(cfg.dropout)\n",
    "        self.residual_dropout = nn.Dropout(cfg.dropout)\n",
    "    \n",
    "        self.flash = hasattr(torch.nn.functional, 'scaled_dot_product_attention')\n",
    "        if not cfg.flash:\n",
    "            self.register_buffer(\n",
    "                    \"bias\",\n",
    "                    torch.tril(torch.ones(1, 1, cfg.block_size, cfg.block_size, device=device))\n",
    "                )\n",
    "    def forward(self, x):\n",
    "        B, T, C = x.shape # (batch, length, n_emb)\n",
    "        # (batch, length, n_emb) -> (batch, length, 3 * n_emb) 를 만든 뒤 3개로 나누기\n",
    "        q, k, v = self.c_attn(x).split(self.cfg.n_emb, dim=2)\n",
    "        k = k.view(B, T, self.cfg.n_head, C // self.cfg.n_head).transpose(1, 2) # (B, nh, T, hs)\n",
    "        q = q.view(B, T, self.cfg.n_head, C // self.cfg.n_head).transpose(1, 2) # (B, nh, T, hs)\n",
    "        v = v.view(B, T, self.cfg.n_head, C // self.cfg.n_head).transpose(1, 2) # (B, nh, T, hs)\n",
    "\n",
    "        # causal self-attention\n",
    "        if not self.flash and self.cfg.einops:\n",
    "            # QK^T 계산\n",
    "            attn_weights = torch.einsum(\"b h t d, b h s d -> b h t s\", q, k) * (self.head_dim ** -0.5)\n",
    "\n",
    "            # causal mask\n",
    "            attn_weights = attn_weights.masked_fill(self.bias[:, :, :T, :T] == 0, float(\"-inf\"))\n",
    "            # softmax 및 dtype 안정성\n",
    "            attn_weights = F.softmax(attn_weights.float(), dim=-1).type_as(attn_weights)\n",
    "            attn_weights = self.attn_dropout(attn_weights)\n",
    "\n",
    "            # attention 곱하기 V\n",
    "            y = torch.einsum(\"b h t s, b h s d -> b h t d\", attn_weights, v)\n",
    "        elif not self.flash and self.cfg.manual_attn:\n",
    "            # manual implementation of attention\n",
    "            # (q @ k.transpose(-2, -1))를 하면 (B, H, T, C/H) x (B, H, C/H, T) -> (B, H, T, T)\n",
    "            att = (q @ k.transpose(-2, -1)) * (1.0 / math.sqrt(k.size(-1)))\n",
    "            mask = self.bias[:,:,:T,:T] == 0 # boolean mask가 나옴 (위쪽이 True인 삼각행렬)\n",
    "            att = att.masked_fill(mask, float('-inf')) # True인 부분에 -inf를 넣음\n",
    "            # softmax는 높은 값에 높은 확률을 부여\n",
    "            # 아주 낮은 값이므로 0의 확률이 되게끔\n",
    "            att = F.softmax(att, dim=-1) # 여전히 (B, H, T, T)\n",
    "            att = self.attn_dropout(att)\n",
    "            y = att @ v # (B, H, T, T) x (B, H, T, C/H) -> (B, H, T, C/H)\n",
    "        else:\n",
    "            y = F.scaled_dot_product_attention(\n",
    "                q, k, v, attn_mask=None, dropout_p=self.cfg.dropout if self.training else 0,\n",
    "                is_causal=True\n",
    "            )\n",
    "        # (B, H, T, C/H) -> (B, T, H, C/H) -> (B, T, C)\n",
    "        y = y.transpose(1, 2).contiguous().view(B, T, C)\n",
    "\n",
    "        # output projection\n",
    "        y = self.residual_dropout(self.c_proj(y))\n",
    "        return y"
   ]
  },
  {
   "cell_type": "markdown",
   "metadata": {},
   "source": [
    "Linear attention\n",
    "\n",
    "- q, k에 kernel 함수를 먼저 적용\n",
    "\n",
    "![Image](https://img1.daumcdn.net/thumb/R1280x0/?scode=mtistory2&fname=https%3A%2F%2Fblog.kakaocdn.net%2Fdn%2Fcqm9dE%2FbtsshkDxDp5%2F0bouLgFTM4jwSnSr2Ngq40%2Fimg.png)"
   ]
  },
  {
   "cell_type": "code",
   "execution_count": null,
   "metadata": {},
   "outputs": [],
   "source": [
    "def rotate_half(x):\n",
    "    \n",
    "\n",
    "class LlamaAttention(nn.Module):\n",
    "    def __init__(self, cfg, layer_idx: int):\n",
    "        super().__init__()\n",
    "        self.cfg = cfg\n",
    "        self.head_dim = getattr(cfg, \"head_dim\", cfg.hidden_size // cfg.n_heads)\n",
    "        self.scailing = self.head_dim ** -0.5\n",
    "        self.attention_dropout = cfg.attention_dropout\n",
    "\n",
    "        # Causal masking\n",
    "        # \n",
    "        self.is_causal = True\n",
    "\n",
    "        self.q_proj = nn.Linear(\n",
    "            cfg.hidden_size, cfg.num_attention_heads * self.head_dim, bias=cfg.attention_bias\n",
    "        )\n",
    "\n",
    "        # K, V는 Grouped-Query Attention(GQA)\n",
    "        self.k_proj = nn.Linear(\n",
    "            cfg.hidden_size, cfg.num_key_value_heads * self.head_dim, bias=cfg.attention_bias\n",
    "        )\n",
    "        self.v_proj = nn.Linear(\n",
    "            cfg.hidden_size, cfg.num_key_value_heads * self.head_dim, bias=cfg.attention_bias\n",
    "        )\n",
    "\n",
    "        self.o_proj = nn.Linear(\n",
    "            cfg.num_key_value_heads * self.head_dim, cfg.hidden_size, bias=cfg.attention_bias\n",
    "        )\n",
    "\n",
    "    def forward(\n",
    "            self, \n",
    "            hidden_states: torch.Tensor,\n",
    "            position_embeddings: Tuple[torch.Tensor, torch.Tensor],\n",
    "        \n",
    "    ):\n",
    "        # 이렇게 한 이유는 K, V의 num_heads가 달라서 -1로 자동으로 처리하게 하려고\n",
    "        input_shape = hidden_states.shape[:-1] # [B, T]\n",
    "        hidden_shape = (*input_shape, -1, self.head_dim)\n",
    "\n",
    "        # [B, T, C] -> [B, T, H, C/H] -> [B, H, T, C/H]\n",
    "        query_states = self.q_proj(hidden_states).view(hidden_shape).transpose(1, 2)\n",
    "        key_states = self.k_proj(hidden_states).view(hidden_shape).transpose(1, 2)\n",
    "        value_states = self.v_proj(hidden_states).view(hidden_shape).transpose(1, 2)\n",
    "\n",
    "        cos, sin = position_embeddings\n",
    "        query_states, key_states = apply_rotary_pos_emb(query_states, key_states, cos, sin)\n",
    "\n",
    "\n",
    "\n",
    "        "
   ]
  },
  {
   "cell_type": "markdown",
   "metadata": {},
   "source": [
    "Axial Attention\n",
    "\n",
    "- 한 번에 한 축(axis) 씩만 어텐션을 계산\n",
    "- 복잡도를 O(∑a∈axes𝐿𝑎2)로 줄임\n",
    "\n",
    "\n",
    "언제 유용할까?\n",
    "\n",
    "- 이미지 패치 (H × W)\n",
    "- 비디오 (T, H, W) :  시간·공간 축을 번갈아가면서 하기\n",
    "- Protein/RNA pair matrix"
   ]
  },
  {
   "cell_type": "code",
   "execution_count": null,
   "metadata": {},
   "outputs": [],
   "source": [
    "import torch, torch.nn as nn\n",
    "from eionops import rearrange\n",
    "\n",
    "class AxialAttention2D(nn.Module):\n",
    "    def __init__(self, dim, heads=8, dropout=0.1):\n",
    "        super().__init__()\n",
    "        self.heads = heads\n",
    "        self.dim = dim\n",
    "        self.hattn = nn.MultiheadAttention(dim, heads, dropout=dropout, batch_first=True)\n",
    "        self.wattn = nn.MultiheadAttention(dim, heads, dropout=dropout, batch_first=True)\n",
    "        self.dropout = nn.Dropout(dropout)\n",
    "        self.ln = nn.LayerNorm(dim)\n",
    "\n",
    "    def forward(self, x):\n",
    "        \"\"\"\n",
    "        x : (B, H, W, C)\n",
    "        returns : (B, H, W, C)\n",
    "        \"\"\"\n",
    "        b, h, w, c = x.shape\n",
    "        out = x\n",
    "\n",
    "        # ① Height‑axis attention  -----------------------------------------\n",
    "        #   reshape: each column (W) becomes a \"sequence\" of length H\n",
    "        seq_h = rearrange(out, 'b h w c -> (b w) h c')\n",
    "        ah, _ = self.hattn(seq_h, seq_h, seq_h)\n",
    "        ah = rearrange(ah, '(b w) h c -> b h w c', b=b, w=w)\n",
    "        out = out + self.dropout(ah)\n",
    "        out = self.ln(out)\n",
    "\n",
    "        # ② Width‑axis attention   -----------------------------------------\n",
    "        #   now each row (H) becomes a \"sequence\" of length W\n",
    "        seq_w = rearrange(out, 'b h w c -> (b h)')\n",
    "        aw, _ = self.wattn(seq_w, seq_w, seq_w)\n",
    "        aw = rearrange(aw, '(b h) w c -> b h w c', b=b, h=h)\n",
    "        out = out + self.dropout(aw)\n",
    "        out = self.ln(out)\n",
    "\n",
    "        return out\n",
    "        "
   ]
  },
  {
   "cell_type": "markdown",
   "metadata": {},
   "source": []
  },
  {
   "cell_type": "code",
   "execution_count": null,
   "metadata": {
    "vscode": {
     "languageId": "plaintext"
    }
   },
   "outputs": [],
   "source": [
    "class LlamaAttention(nn.Module):\n",
    "    def __init__(self, config, layer_idx):\n",
    "        super().__init__()\n",
    "        self.config = config\n",
    "        self.layer_idx = layer_idx\n",
    "        \n",
    "        self.hidden_size = config.hidden_size\n",
    "        self.num_heads = config.num_attention_heads\n",
    "        self.head_dim = self.hidden_size // self.num_heads\n",
    "        self.num_key_value_heads = config.num_key_value_heads\n",
    "        self.num_key_value_groups = self.num_heads // self.num_key_value_heads\n",
    "        self.max_position_embeddings = config.max_position_embeddings\n",
    "        self.rope_theta = config.rope_theta\n",
    "        self.is_causal = True\n",
    "        \n",
    "\n",
    "        if (head_dim * num_heads) != hidden_size:\n",
    "            raise ValueError(f\"not divisible\")\n",
    "        \n",
    "        self.q_proj = nn.Linear(self.hidden_size, self.hidden_size, self.num_heads, bias=config.attention_bias)\n",
    "        self.k_proj = nn.Linear(self.hidden_size, self.num_key_value_heads * self.head_dim, bias=config.attention_bias)\n",
    "        self.v_proj = nn.Linear(self.hidden_size, self.num_key_value_heads * self.head_dim, bias=config.attention_bias)\n",
    "        self.o_proj = nn.Linear(self.num_heads * self.head_dim, self.hidden_size, bias=config.attention_bias)\n",
    "\n",
    "\n",
    "        self._init_rope()\n",
    "        \n",
    "    def _init_rope(self):\n",
    "        self.rotary_emb = ...\n",
    "\n",
    "    def forward(self, hidden_states : torch.Tensor,\n",
    "                attention_mask: Optional[torch.Tensor] = None,\n",
    "                position_ids: Optional[torch.LongTensor] = None,\n",
    "                past_key_value: Optional[Cache] = None,\n",
    "                output_attentions: bool = False,\n",
    "                use_cache: bool = False,\n",
    "                **kwargs,) -> Tuple[torch.Tensor, Optional[torch.Tensor], Optional[Tuple[torch.Tensor]]]:\n",
    "\n",
    "        bsz, q_len, _ = hidden_states.size()\n",
    "        "
   ]
  }
 ],
 "metadata": {
  "kernelspec": {
   "display_name": "Python 3 (ipykernel)",
   "language": "python",
   "name": "python3"
  },
  "language_info": {
   "codemirror_mode": {
    "name": "ipython",
    "version": 3
   },
   "file_extension": ".py",
   "mimetype": "text/x-python",
   "name": "python",
   "nbconvert_exporter": "python",
   "pygments_lexer": "ipython3",
   "version": "3.10.13"
  }
 },
 "nbformat": 4,
 "nbformat_minor": 2
}
