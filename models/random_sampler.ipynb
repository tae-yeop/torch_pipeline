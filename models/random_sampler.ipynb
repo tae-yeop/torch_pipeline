{
 "cells": [
  {
   "cell_type": "code",
   "execution_count": null,
   "metadata": {
    "vscode": {
     "languageId": "plaintext"
    }
   },
   "outputs": [],
   "source": [
    "import numpy as np\n",
    "from random import choice as rchoice\n",
    "from random import randint\n",
    "import random\n",
    "import cv2, traceback, imageio\n",
    "import os.path as osp\n",
    "\n",
    "from typing import Optional, List, Union, Tuple, Dict\n",
    "# from utils.io_utils import imread_nogrey_rgb, json2dict\n",
    "from transforms import rotate_image\n",
    "# from utils.logger import LOGGER\n",
    "\n",
    "\n",
    "class NameSampler:\n",
    "\n",
    "    def __init__(self, name_prob_dict, sample_num=2048) -> None:\n",
    "        self.name_prob_dict = name_prob_dict\n",
    "        self._id2name = list(name_prob_dict.keys())\n",
    "        self.sample_ids = []\n",
    "\n",
    "        total_prob = 0.\n",
    "        for ii, (_, prob) in enumerate(name_prob_dict.items()):\n",
    "            tgt_num = int(prob * sample_num)\n",
    "            total_prob += prob\n",
    "            if tgt_num > 0:\n",
    "                self.sample_ids += [ii] * tgt_num\n",
    "\n",
    "        nsamples = len(self.sample_ids)\n",
    "        assert prob <= 1\n",
    "        if prob < 1 and nsamples < sample_num:\n",
    "            self.sample_ids += [len(self._id2name)] * (sample_num - nsamples)\n",
    "            self._id2name.append('_')\n",
    "\n",
    "    def sample(self) -> str:\n",
    "        return self._id2name[rchoice(self.sample_ids)]\n",
    "\n",
    "class PossionSampler:\n",
    "    def __init__(self, lam=3, min_val=1, max_val=8) -> None:\n",
    "        self._distr = np.random.poisson(lam, 1024)\n",
    "        invalid = np.where(np.logical_or(self._distr<min_val, self._distr > max_val))\n",
    "        self._distr[invalid] = np.random.randint(min_val, max_val, len(invalid[0]))\n",
    "\n",
    "    def sample(self) -> int:\n",
    "        return rchoice(self._distr)\n",
    "\n",
    "\n",
    "\n",
    "regular_paste_prob=0.4\n",
    "person_paste_prob=0.4\n",
    "\n",
    "paste_method_sampler = NameSampler({'regular': regular_paste_prob, 'personbbox': person_paste_prob, \n",
    "                            'partition': 1-regular_paste_prob-person_paste_prob})\n",
    "    \n",
    "paste_method = paste_method_sampler.sample()\n",
    "print(paste_method)\n",
    "\n",
    "numfg_sampler = PossionSampler(min_val=1, max_val=9, lam=2.5)\n",
    "numfg_regpaste_sampler = PossionSampler(min_val=2, max_val=9, lam=3.5)\n",
    "\n",
    "\n",
    "if paste_method == 'regular':\n",
    "    num_fg = numfg_regpaste_sampler.sample()\n",
    "    print(num_fg)\n",
    "\n",
    "elif paste_method == 'personbbox':\n"
   ]
  }
 ],
 "metadata": {
  "language_info": {
   "name": "python"
  }
 },
 "nbformat": 4,
 "nbformat_minor": 2
}
