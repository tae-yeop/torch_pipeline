{
 "cells": [
  {
   "cell_type": "code",
   "execution_count": 1,
   "metadata": {},
   "outputs": [],
   "source": [
    "import torch\n",
    "import torch.nn as nn\n",
    "import torch.nn.functional as F"
   ]
  },
  {
   "cell_type": "markdown",
   "metadata": {},
   "source": [
    "### ConvMixer"
   ]
  },
  {
   "cell_type": "code",
   "execution_count": 2,
   "metadata": {},
   "outputs": [],
   "source": [
    "class ResBlock(nn.Module):\n",
    "    def __init__(self, fn):\n",
    "        super().__init__()\n",
    "        self.fn = fn\n",
    "\n",
    "    def forward(self, x):\n",
    "        return self.fn(x) + x"
   ]
  },
  {
   "cell_type": "code",
   "execution_count": 3,
   "metadata": {},
   "outputs": [],
   "source": [
    "class ConvMixerLayer(nn.Module):\n",
    "    def __init__(self, hidden_size, kernel_size):\n",
    "        super().__init__()\n",
    "\n",
    "        self.hidden_size = hidden_size\n",
    "        self.kernel_size = kernel_size\n",
    "\n",
    "        self.model = nn.Sequential(\n",
    "            ResBlock(\n",
    "                nn.Sequential(\n",
    "                    nn.Conv2d(self.hidden_size, self.hidden_size, self.kernel_size, groups=self.hidden_size, padding=\"same\"),\n",
    "                    nn.GELU(),\n",
    "                    nn.BatchNorm2d(self.hidden_size)\n",
    "                )\n",
    "            ),\n",
    "            nn.Conv2d(hidden_size, hidden_size, kernel_size=1),\n",
    "            nn.GELU(),\n",
    "            nn.BatchNorm2d(self.hidden_size)\n",
    "        )\n",
    "\n",
    "    def forward(self, x):\n",
    "        return self.model(x)"
   ]
  },
  {
   "cell_type": "code",
   "execution_count": null,
   "metadata": {},
   "outputs": [],
   "source": [
    "class ConvMixer(nn.Module):\n",
    "    def __init__(self, cfg):\n",
    "        super().__init__()\n",
    "\n",
    "        self.num_channels = cfg.num_channels\n",
    "        self.hidden_size = cfg.hidden_size\n",
    "        self.patch_size = cfg.patch_size\n",
    "        self.n_classes = cfg.n_classes\n",
    "\n",
    "        self.projection = nn.Conv(\n",
    "                self.num_channels, self.hidden_size, \n",
    "                kernel_size=self.patch_size, stride=self.patch_size\n",
    "        )\n",
    "        self.prenorm = nn.Sequential(\n",
    "            nn.GELU(),\n",
    "            nn.BatchNorm2d(self.hidden_size)\n",
    "        )\n",
    "        self.encoder = nn.ModuleList(\n",
    "            [ConvMixerLayer(self.hidden_size, self.kernel_size) for _ in range(cfg.num_layers)]\n",
    "        )\n",
    "        self.pooler = nn.Sequential(\n",
    "            nn.AdaptiveAvgPool2d((1,1)),\n",
    "            nn.Flatten(),\n",
    "            nn.Linear(self.hidden_size, self.n_classes)\n",
    "        )\n",
    "\n",
    "    def forward(self, x):\n",
    "        x = self.projection(x)\n",
    "        x = self.prenorm(x)\n",
    "        for layer in self.encoder:\n",
    "            x = layer(x)\n",
    "        x = self.pooler(x)\n",
    "        return x"
   ]
  }
 ],
 "metadata": {
  "kernelspec": {
   "display_name": "Python 3 (ipykernel)",
   "language": "python",
   "name": "python3"
  },
  "language_info": {
   "codemirror_mode": {
    "name": "ipython",
    "version": 3
   },
   "file_extension": ".py",
   "mimetype": "text/x-python",
   "name": "python",
   "nbconvert_exporter": "python",
   "pygments_lexer": "ipython3",
   "version": "3.10.13"
  }
 },
 "nbformat": 4,
 "nbformat_minor": 2
}
