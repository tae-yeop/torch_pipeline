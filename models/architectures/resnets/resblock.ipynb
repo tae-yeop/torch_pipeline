{
 "cells": [
  {
   "cell_type": "markdown",
   "id": "af909dd9",
   "metadata": {},
   "source": [
    "스타일\n",
    "\n",
    "(1) Norm-Act-Conv\n",
    "\n",
    "- ResNet V2 스타일\n",
    "- 깊은 네트워크 구조에 효과적\n",
    "- BN과 ReLU를 앞에 배치함으로써, 역전파 시 gradient가 더 원활\n",
    "- Skip connection을 통해 입력을 그대로 전달 : Identity Mapping 보존할 수 있음\n",
    "\n",
    "\n",
    "(2) Conv-Norm-Act\n",
    "\n",
    "- 초창기 ResNet V1 스타일\n",
    "- Conv-BN-ReLU 형태를 사용\n",
    "- 얕은 네트워크에선 효과적\n",
    "- 깊으면 Gradient 흐름 제한 : Activation 함수 이후에 skip connection이 적용되므로, gradient가 원활하게 흐르지 못할 수 있음\n",
    "\n",
    "(3) Norm-Conv-Act\n",
    "\n",
    "- 일부 Transformer 구조에서 사용\n",
    "- Activation이 뒤에 있어서 skip connection과 조합에서 문제가 될 수 있음\n",
    "- Skip connection이 없다면 유효"
   ]
  },
  {
   "cell_type": "code",
   "execution_count": null,
   "id": "077caa4c",
   "metadata": {
    "vscode": {
     "languageId": "plaintext"
    }
   },
   "outputs": [],
   "source": []
  },
  {
   "cell_type": "markdown",
   "id": "520a16f6",
   "metadata": {},
   "source": [
    "### ConvNeXt 스타일 (2022)\n",
    "\n",
    "DepthwiseConv → GN → Act (GELU) → PointwiseConv"
   ]
  },
  {
   "cell_type": "markdown",
   "id": "60be1dac",
   "metadata": {},
   "source": [
    "### Transformer-style Pre-Norm\n",
    "\n",
    "Norm → (Linear or Attention) → Residual"
   ]
  },
  {
   "cell_type": "code",
   "execution_count": null,
   "id": "33d20516",
   "metadata": {
    "vscode": {
     "languageId": "plaintext"
    }
   },
   "outputs": [],
   "source": []
  },
  {
   "cell_type": "code",
   "execution_count": null,
   "id": "0769399e",
   "metadata": {
    "vscode": {
     "languageId": "plaintext"
    }
   },
   "outputs": [],
   "source": []
  },
  {
   "cell_type": "code",
   "execution_count": null,
   "id": "a248fff2",
   "metadata": {
    "vscode": {
     "languageId": "plaintext"
    }
   },
   "outputs": [],
   "source": []
  },
  {
   "cell_type": "markdown",
   "id": "b657f9fa",
   "metadata": {},
   "source": []
  }
 ],
 "metadata": {
  "language_info": {
   "name": "python"
  }
 },
 "nbformat": 4,
 "nbformat_minor": 5
}
