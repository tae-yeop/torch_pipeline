{
 "cells": [
  {
   "cell_type": "code",
   "execution_count": 1,
   "metadata": {},
   "outputs": [],
   "source": [
    "import torch\n",
    "import torch.nn as nn\n",
    "import torch.nn.functional as F"
   ]
  },
  {
   "cell_type": "markdown",
   "metadata": {},
   "source": [
    "### Maxpooling\n",
    "\n",
    "- Gating하는 용도로 사용"
   ]
  },
  {
   "cell_type": "code",
   "execution_count": 5,
   "metadata": {},
   "outputs": [],
   "source": [
    "class MyAdaptiveMaxPool2d(nn.Module):\n",
    "    def __init__(self, sz=None):\n",
    "        super().__init__()\n",
    "\n",
    "    def forward(self, x): \n",
    "        inp_size = x.size()\n",
    "        return F.max_pool2d(\n",
    "            input=x,\n",
    "            kernel_size= (inp_size[2], inp_size[3]))"
   ]
  },
  {
   "cell_type": "code",
   "execution_count": 7,
   "metadata": {},
   "outputs": [
    {
     "data": {
      "text/plain": [
       "torch.Size([32, 16])"
      ]
     },
     "execution_count": 7,
     "metadata": {},
     "output_type": "execute_result"
    }
   ],
   "source": [
    "x = torch.randn((32, 16, 256, 256))\n",
    "\n",
    "gap = MyAdaptiveMaxPool2d()\n",
    "gap(x).squeeze().shape"
   ]
  },
  {
   "cell_type": "code",
   "execution_count": null,
   "metadata": {},
   "outputs": [],
   "source": [
    "class GatedConv(nn.Module):\n",
    "  def __init__(self, in_channels, out_channels, k_size):\n",
    "    self.gap = MyAdaptiveMaxPool2d()\n",
    "    self.linear = nn.Linear()\n",
    "    self.conv2d = nn.Conv2d(in_channels, out_channels, kernel_size=k_size)\n",
    "  def forwrad(self, x, z):\n",
    "    x_m = self.gap(x)\n",
    "    s = torch.sigmoid(self.linear(torch.concat((x_m, z), dim=0)))\n",
    "    x = self.conv2d(x)"
   ]
  }
 ],
 "metadata": {
  "kernelspec": {
   "display_name": "Python 3 (ipykernel)",
   "language": "python",
   "name": "python3"
  },
  "language_info": {
   "codemirror_mode": {
    "name": "ipython",
    "version": 3
   },
   "file_extension": ".py",
   "mimetype": "text/x-python",
   "name": "python",
   "nbconvert_exporter": "python",
   "pygments_lexer": "ipython3",
   "version": "3.10.13"
  }
 },
 "nbformat": 4,
 "nbformat_minor": 2
}
