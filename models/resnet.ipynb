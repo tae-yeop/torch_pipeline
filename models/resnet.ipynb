{
  "nbformat": 4,
  "nbformat_minor": 0,
  "metadata": {
    "colab": {
      "name": "cubox_resnet.ipynb",
      "provenance": [],
      "collapsed_sections": [],
      "authorship_tag": "ABX9TyPToe7V6niC1V2VCmYYBo27",
      "include_colab_link": true
    },
    "kernelspec": {
      "name": "python3",
      "display_name": "Python 3"
    },
    "language_info": {
      "name": "python"
    },
    "widgets": {
      "application/vnd.jupyter.widget-state+json": {
        "3539abf806214d129faf2ff9b698284f": {
          "model_module": "@jupyter-widgets/controls",
          "model_name": "HBoxModel",
          "model_module_version": "1.5.0",
          "state": {
            "_view_name": "HBoxView",
            "_dom_classes": [],
            "_model_name": "HBoxModel",
            "_view_module": "@jupyter-widgets/controls",
            "_model_module_version": "1.5.0",
            "_view_count": null,
            "_view_module_version": "1.5.0",
            "box_style": "",
            "layout": "IPY_MODEL_1f144020a7d742bbb56935999d17f614",
            "_model_module": "@jupyter-widgets/controls",
            "children": [
              "IPY_MODEL_560345f11f7646af8e8b924ae2baba1f",
              "IPY_MODEL_5f81ec9b8baf47bab62189980e6b879e",
              "IPY_MODEL_d808a6ae08f1442eb3cf2541893bc302"
            ]
          }
        },
        "1f144020a7d742bbb56935999d17f614": {
          "model_module": "@jupyter-widgets/base",
          "model_name": "LayoutModel",
          "model_module_version": "1.2.0",
          "state": {
            "_view_name": "LayoutView",
            "grid_template_rows": null,
            "right": null,
            "justify_content": null,
            "_view_module": "@jupyter-widgets/base",
            "overflow": null,
            "_model_module_version": "1.2.0",
            "_view_count": null,
            "flex_flow": null,
            "width": null,
            "min_width": null,
            "border": null,
            "align_items": null,
            "bottom": null,
            "_model_module": "@jupyter-widgets/base",
            "top": null,
            "grid_column": null,
            "overflow_y": null,
            "overflow_x": null,
            "grid_auto_flow": null,
            "grid_area": null,
            "grid_template_columns": null,
            "flex": null,
            "_model_name": "LayoutModel",
            "justify_items": null,
            "grid_row": null,
            "max_height": null,
            "align_content": null,
            "visibility": null,
            "align_self": null,
            "height": null,
            "min_height": null,
            "padding": null,
            "grid_auto_rows": null,
            "grid_gap": null,
            "max_width": null,
            "order": null,
            "_view_module_version": "1.2.0",
            "grid_template_areas": null,
            "object_position": null,
            "object_fit": null,
            "grid_auto_columns": null,
            "margin": null,
            "display": null,
            "left": null
          }
        },
        "560345f11f7646af8e8b924ae2baba1f": {
          "model_module": "@jupyter-widgets/controls",
          "model_name": "HTMLModel",
          "model_module_version": "1.5.0",
          "state": {
            "_view_name": "HTMLView",
            "style": "IPY_MODEL_26c4c44e0bdd4a2b979e94b320a12244",
            "_dom_classes": [],
            "description": "",
            "_model_name": "HTMLModel",
            "placeholder": "​",
            "_view_module": "@jupyter-widgets/controls",
            "_model_module_version": "1.5.0",
            "value": "",
            "_view_count": null,
            "_view_module_version": "1.5.0",
            "description_tooltip": null,
            "_model_module": "@jupyter-widgets/controls",
            "layout": "IPY_MODEL_8ddefe4632e04988bb45ff16602155df"
          }
        },
        "5f81ec9b8baf47bab62189980e6b879e": {
          "model_module": "@jupyter-widgets/controls",
          "model_name": "FloatProgressModel",
          "model_module_version": "1.5.0",
          "state": {
            "_view_name": "ProgressView",
            "style": "IPY_MODEL_b0c2e90e62134a2ab096ccdec0c9310b",
            "_dom_classes": [],
            "description": "",
            "_model_name": "FloatProgressModel",
            "bar_style": "success",
            "max": 170498071,
            "_view_module": "@jupyter-widgets/controls",
            "_model_module_version": "1.5.0",
            "value": 170498071,
            "_view_count": null,
            "_view_module_version": "1.5.0",
            "orientation": "horizontal",
            "min": 0,
            "description_tooltip": null,
            "_model_module": "@jupyter-widgets/controls",
            "layout": "IPY_MODEL_5f0fd361b9454e819cbadaabaa69eac6"
          }
        },
        "d808a6ae08f1442eb3cf2541893bc302": {
          "model_module": "@jupyter-widgets/controls",
          "model_name": "HTMLModel",
          "model_module_version": "1.5.0",
          "state": {
            "_view_name": "HTMLView",
            "style": "IPY_MODEL_036aed19272242e6be036f5eb416043c",
            "_dom_classes": [],
            "description": "",
            "_model_name": "HTMLModel",
            "placeholder": "​",
            "_view_module": "@jupyter-widgets/controls",
            "_model_module_version": "1.5.0",
            "value": " 170499072/? [00:03&lt;00:00, 48374121.80it/s]",
            "_view_count": null,
            "_view_module_version": "1.5.0",
            "description_tooltip": null,
            "_model_module": "@jupyter-widgets/controls",
            "layout": "IPY_MODEL_feaaeb6c27ae4681aa4a5330da23cd1e"
          }
        },
        "26c4c44e0bdd4a2b979e94b320a12244": {
          "model_module": "@jupyter-widgets/controls",
          "model_name": "DescriptionStyleModel",
          "model_module_version": "1.5.0",
          "state": {
            "_view_name": "StyleView",
            "_model_name": "DescriptionStyleModel",
            "description_width": "",
            "_view_module": "@jupyter-widgets/base",
            "_model_module_version": "1.5.0",
            "_view_count": null,
            "_view_module_version": "1.2.0",
            "_model_module": "@jupyter-widgets/controls"
          }
        },
        "8ddefe4632e04988bb45ff16602155df": {
          "model_module": "@jupyter-widgets/base",
          "model_name": "LayoutModel",
          "model_module_version": "1.2.0",
          "state": {
            "_view_name": "LayoutView",
            "grid_template_rows": null,
            "right": null,
            "justify_content": null,
            "_view_module": "@jupyter-widgets/base",
            "overflow": null,
            "_model_module_version": "1.2.0",
            "_view_count": null,
            "flex_flow": null,
            "width": null,
            "min_width": null,
            "border": null,
            "align_items": null,
            "bottom": null,
            "_model_module": "@jupyter-widgets/base",
            "top": null,
            "grid_column": null,
            "overflow_y": null,
            "overflow_x": null,
            "grid_auto_flow": null,
            "grid_area": null,
            "grid_template_columns": null,
            "flex": null,
            "_model_name": "LayoutModel",
            "justify_items": null,
            "grid_row": null,
            "max_height": null,
            "align_content": null,
            "visibility": null,
            "align_self": null,
            "height": null,
            "min_height": null,
            "padding": null,
            "grid_auto_rows": null,
            "grid_gap": null,
            "max_width": null,
            "order": null,
            "_view_module_version": "1.2.0",
            "grid_template_areas": null,
            "object_position": null,
            "object_fit": null,
            "grid_auto_columns": null,
            "margin": null,
            "display": null,
            "left": null
          }
        },
        "b0c2e90e62134a2ab096ccdec0c9310b": {
          "model_module": "@jupyter-widgets/controls",
          "model_name": "ProgressStyleModel",
          "model_module_version": "1.5.0",
          "state": {
            "_view_name": "StyleView",
            "_model_name": "ProgressStyleModel",
            "description_width": "",
            "_view_module": "@jupyter-widgets/base",
            "_model_module_version": "1.5.0",
            "_view_count": null,
            "_view_module_version": "1.2.0",
            "bar_color": null,
            "_model_module": "@jupyter-widgets/controls"
          }
        },
        "5f0fd361b9454e819cbadaabaa69eac6": {
          "model_module": "@jupyter-widgets/base",
          "model_name": "LayoutModel",
          "model_module_version": "1.2.0",
          "state": {
            "_view_name": "LayoutView",
            "grid_template_rows": null,
            "right": null,
            "justify_content": null,
            "_view_module": "@jupyter-widgets/base",
            "overflow": null,
            "_model_module_version": "1.2.0",
            "_view_count": null,
            "flex_flow": null,
            "width": null,
            "min_width": null,
            "border": null,
            "align_items": null,
            "bottom": null,
            "_model_module": "@jupyter-widgets/base",
            "top": null,
            "grid_column": null,
            "overflow_y": null,
            "overflow_x": null,
            "grid_auto_flow": null,
            "grid_area": null,
            "grid_template_columns": null,
            "flex": null,
            "_model_name": "LayoutModel",
            "justify_items": null,
            "grid_row": null,
            "max_height": null,
            "align_content": null,
            "visibility": null,
            "align_self": null,
            "height": null,
            "min_height": null,
            "padding": null,
            "grid_auto_rows": null,
            "grid_gap": null,
            "max_width": null,
            "order": null,
            "_view_module_version": "1.2.0",
            "grid_template_areas": null,
            "object_position": null,
            "object_fit": null,
            "grid_auto_columns": null,
            "margin": null,
            "display": null,
            "left": null
          }
        },
        "036aed19272242e6be036f5eb416043c": {
          "model_module": "@jupyter-widgets/controls",
          "model_name": "DescriptionStyleModel",
          "model_module_version": "1.5.0",
          "state": {
            "_view_name": "StyleView",
            "_model_name": "DescriptionStyleModel",
            "description_width": "",
            "_view_module": "@jupyter-widgets/base",
            "_model_module_version": "1.5.0",
            "_view_count": null,
            "_view_module_version": "1.2.0",
            "_model_module": "@jupyter-widgets/controls"
          }
        },
        "feaaeb6c27ae4681aa4a5330da23cd1e": {
          "model_module": "@jupyter-widgets/base",
          "model_name": "LayoutModel",
          "model_module_version": "1.2.0",
          "state": {
            "_view_name": "LayoutView",
            "grid_template_rows": null,
            "right": null,
            "justify_content": null,
            "_view_module": "@jupyter-widgets/base",
            "overflow": null,
            "_model_module_version": "1.2.0",
            "_view_count": null,
            "flex_flow": null,
            "width": null,
            "min_width": null,
            "border": null,
            "align_items": null,
            "bottom": null,
            "_model_module": "@jupyter-widgets/base",
            "top": null,
            "grid_column": null,
            "overflow_y": null,
            "overflow_x": null,
            "grid_auto_flow": null,
            "grid_area": null,
            "grid_template_columns": null,
            "flex": null,
            "_model_name": "LayoutModel",
            "justify_items": null,
            "grid_row": null,
            "max_height": null,
            "align_content": null,
            "visibility": null,
            "align_self": null,
            "height": null,
            "min_height": null,
            "padding": null,
            "grid_auto_rows": null,
            "grid_gap": null,
            "max_width": null,
            "order": null,
            "_view_module_version": "1.2.0",
            "grid_template_areas": null,
            "object_position": null,
            "object_fit": null,
            "grid_auto_columns": null,
            "margin": null,
            "display": null,
            "left": null
          }
        },
        "c24c9d2685d8430ba2477aa1a6209e59": {
          "model_module": "@jupyter-widgets/controls",
          "model_name": "HBoxModel",
          "model_module_version": "1.5.0",
          "state": {
            "_view_name": "HBoxView",
            "_dom_classes": [],
            "_model_name": "HBoxModel",
            "_view_module": "@jupyter-widgets/controls",
            "_model_module_version": "1.5.0",
            "_view_count": null,
            "_view_module_version": "1.5.0",
            "box_style": "",
            "layout": "IPY_MODEL_a029bb790f3c4238934a8e4d78891b21",
            "_model_module": "@jupyter-widgets/controls",
            "children": [
              "IPY_MODEL_76391a5de2fc4a489023c680c4a596f7",
              "IPY_MODEL_d72d645168c246f4902f39fb0e6c6d96",
              "IPY_MODEL_4b9d6ee2b48a457f9fb42e3b8c845e4e"
            ]
          }
        },
        "a029bb790f3c4238934a8e4d78891b21": {
          "model_module": "@jupyter-widgets/base",
          "model_name": "LayoutModel",
          "model_module_version": "1.2.0",
          "state": {
            "_view_name": "LayoutView",
            "grid_template_rows": null,
            "right": null,
            "justify_content": null,
            "_view_module": "@jupyter-widgets/base",
            "overflow": null,
            "_model_module_version": "1.2.0",
            "_view_count": null,
            "flex_flow": null,
            "width": null,
            "min_width": null,
            "border": null,
            "align_items": null,
            "bottom": null,
            "_model_module": "@jupyter-widgets/base",
            "top": null,
            "grid_column": null,
            "overflow_y": null,
            "overflow_x": null,
            "grid_auto_flow": null,
            "grid_area": null,
            "grid_template_columns": null,
            "flex": null,
            "_model_name": "LayoutModel",
            "justify_items": null,
            "grid_row": null,
            "max_height": null,
            "align_content": null,
            "visibility": null,
            "align_self": null,
            "height": null,
            "min_height": null,
            "padding": null,
            "grid_auto_rows": null,
            "grid_gap": null,
            "max_width": null,
            "order": null,
            "_view_module_version": "1.2.0",
            "grid_template_areas": null,
            "object_position": null,
            "object_fit": null,
            "grid_auto_columns": null,
            "margin": null,
            "display": null,
            "left": null
          }
        },
        "76391a5de2fc4a489023c680c4a596f7": {
          "model_module": "@jupyter-widgets/controls",
          "model_name": "HTMLModel",
          "model_module_version": "1.5.0",
          "state": {
            "_view_name": "HTMLView",
            "style": "IPY_MODEL_a043e557413140ab9d8d5903631e2581",
            "_dom_classes": [],
            "description": "",
            "_model_name": "HTMLModel",
            "placeholder": "​",
            "_view_module": "@jupyter-widgets/controls",
            "_model_module_version": "1.5.0",
            "value": "",
            "_view_count": null,
            "_view_module_version": "1.5.0",
            "description_tooltip": null,
            "_model_module": "@jupyter-widgets/controls",
            "layout": "IPY_MODEL_17d865c0dbef4f8f8d832d545d978761"
          }
        },
        "d72d645168c246f4902f39fb0e6c6d96": {
          "model_module": "@jupyter-widgets/controls",
          "model_name": "FloatProgressModel",
          "model_module_version": "1.5.0",
          "state": {
            "_view_name": "ProgressView",
            "style": "IPY_MODEL_720e1520d91a4ef4a86fe1f408a4f0d4",
            "_dom_classes": [],
            "description": "",
            "_model_name": "FloatProgressModel",
            "bar_style": "success",
            "max": 170498071,
            "_view_module": "@jupyter-widgets/controls",
            "_model_module_version": "1.5.0",
            "value": 170498071,
            "_view_count": null,
            "_view_module_version": "1.5.0",
            "orientation": "horizontal",
            "min": 0,
            "description_tooltip": null,
            "_model_module": "@jupyter-widgets/controls",
            "layout": "IPY_MODEL_f73d2b0d7bf9450396051aecb4234f26"
          }
        },
        "4b9d6ee2b48a457f9fb42e3b8c845e4e": {
          "model_module": "@jupyter-widgets/controls",
          "model_name": "HTMLModel",
          "model_module_version": "1.5.0",
          "state": {
            "_view_name": "HTMLView",
            "style": "IPY_MODEL_960137427d7c4b199bdc9245a5f7372d",
            "_dom_classes": [],
            "description": "",
            "_model_name": "HTMLModel",
            "placeholder": "​",
            "_view_module": "@jupyter-widgets/controls",
            "_model_module_version": "1.5.0",
            "value": " 170499072/? [00:04&lt;00:00, 50378249.34it/s]",
            "_view_count": null,
            "_view_module_version": "1.5.0",
            "description_tooltip": null,
            "_model_module": "@jupyter-widgets/controls",
            "layout": "IPY_MODEL_e1e48ee2b3134203a9bd9e8aca48489b"
          }
        },
        "a043e557413140ab9d8d5903631e2581": {
          "model_module": "@jupyter-widgets/controls",
          "model_name": "DescriptionStyleModel",
          "model_module_version": "1.5.0",
          "state": {
            "_view_name": "StyleView",
            "_model_name": "DescriptionStyleModel",
            "description_width": "",
            "_view_module": "@jupyter-widgets/base",
            "_model_module_version": "1.5.0",
            "_view_count": null,
            "_view_module_version": "1.2.0",
            "_model_module": "@jupyter-widgets/controls"
          }
        },
        "17d865c0dbef4f8f8d832d545d978761": {
          "model_module": "@jupyter-widgets/base",
          "model_name": "LayoutModel",
          "model_module_version": "1.2.0",
          "state": {
            "_view_name": "LayoutView",
            "grid_template_rows": null,
            "right": null,
            "justify_content": null,
            "_view_module": "@jupyter-widgets/base",
            "overflow": null,
            "_model_module_version": "1.2.0",
            "_view_count": null,
            "flex_flow": null,
            "width": null,
            "min_width": null,
            "border": null,
            "align_items": null,
            "bottom": null,
            "_model_module": "@jupyter-widgets/base",
            "top": null,
            "grid_column": null,
            "overflow_y": null,
            "overflow_x": null,
            "grid_auto_flow": null,
            "grid_area": null,
            "grid_template_columns": null,
            "flex": null,
            "_model_name": "LayoutModel",
            "justify_items": null,
            "grid_row": null,
            "max_height": null,
            "align_content": null,
            "visibility": null,
            "align_self": null,
            "height": null,
            "min_height": null,
            "padding": null,
            "grid_auto_rows": null,
            "grid_gap": null,
            "max_width": null,
            "order": null,
            "_view_module_version": "1.2.0",
            "grid_template_areas": null,
            "object_position": null,
            "object_fit": null,
            "grid_auto_columns": null,
            "margin": null,
            "display": null,
            "left": null
          }
        },
        "720e1520d91a4ef4a86fe1f408a4f0d4": {
          "model_module": "@jupyter-widgets/controls",
          "model_name": "ProgressStyleModel",
          "model_module_version": "1.5.0",
          "state": {
            "_view_name": "StyleView",
            "_model_name": "ProgressStyleModel",
            "description_width": "",
            "_view_module": "@jupyter-widgets/base",
            "_model_module_version": "1.5.0",
            "_view_count": null,
            "_view_module_version": "1.2.0",
            "bar_color": null,
            "_model_module": "@jupyter-widgets/controls"
          }
        },
        "f73d2b0d7bf9450396051aecb4234f26": {
          "model_module": "@jupyter-widgets/base",
          "model_name": "LayoutModel",
          "model_module_version": "1.2.0",
          "state": {
            "_view_name": "LayoutView",
            "grid_template_rows": null,
            "right": null,
            "justify_content": null,
            "_view_module": "@jupyter-widgets/base",
            "overflow": null,
            "_model_module_version": "1.2.0",
            "_view_count": null,
            "flex_flow": null,
            "width": null,
            "min_width": null,
            "border": null,
            "align_items": null,
            "bottom": null,
            "_model_module": "@jupyter-widgets/base",
            "top": null,
            "grid_column": null,
            "overflow_y": null,
            "overflow_x": null,
            "grid_auto_flow": null,
            "grid_area": null,
            "grid_template_columns": null,
            "flex": null,
            "_model_name": "LayoutModel",
            "justify_items": null,
            "grid_row": null,
            "max_height": null,
            "align_content": null,
            "visibility": null,
            "align_self": null,
            "height": null,
            "min_height": null,
            "padding": null,
            "grid_auto_rows": null,
            "grid_gap": null,
            "max_width": null,
            "order": null,
            "_view_module_version": "1.2.0",
            "grid_template_areas": null,
            "object_position": null,
            "object_fit": null,
            "grid_auto_columns": null,
            "margin": null,
            "display": null,
            "left": null
          }
        },
        "960137427d7c4b199bdc9245a5f7372d": {
          "model_module": "@jupyter-widgets/controls",
          "model_name": "DescriptionStyleModel",
          "model_module_version": "1.5.0",
          "state": {
            "_view_name": "StyleView",
            "_model_name": "DescriptionStyleModel",
            "description_width": "",
            "_view_module": "@jupyter-widgets/base",
            "_model_module_version": "1.5.0",
            "_view_count": null,
            "_view_module_version": "1.2.0",
            "_model_module": "@jupyter-widgets/controls"
          }
        },
        "e1e48ee2b3134203a9bd9e8aca48489b": {
          "model_module": "@jupyter-widgets/base",
          "model_name": "LayoutModel",
          "model_module_version": "1.2.0",
          "state": {
            "_view_name": "LayoutView",
            "grid_template_rows": null,
            "right": null,
            "justify_content": null,
            "_view_module": "@jupyter-widgets/base",
            "overflow": null,
            "_model_module_version": "1.2.0",
            "_view_count": null,
            "flex_flow": null,
            "width": null,
            "min_width": null,
            "border": null,
            "align_items": null,
            "bottom": null,
            "_model_module": "@jupyter-widgets/base",
            "top": null,
            "grid_column": null,
            "overflow_y": null,
            "overflow_x": null,
            "grid_auto_flow": null,
            "grid_area": null,
            "grid_template_columns": null,
            "flex": null,
            "_model_name": "LayoutModel",
            "justify_items": null,
            "grid_row": null,
            "max_height": null,
            "align_content": null,
            "visibility": null,
            "align_self": null,
            "height": null,
            "min_height": null,
            "padding": null,
            "grid_auto_rows": null,
            "grid_gap": null,
            "max_width": null,
            "order": null,
            "_view_module_version": "1.2.0",
            "grid_template_areas": null,
            "object_position": null,
            "object_fit": null,
            "grid_auto_columns": null,
            "margin": null,
            "display": null,
            "left": null
          }
        }
      }
    },
    "accelerator": "GPU"
  },
  "cells": [
    {
      "cell_type": "markdown",
      "metadata": {
        "id": "view-in-github",
        "colab_type": "text"
      },
      "source": [
        "<a href=\"https://colab.research.google.com/github/tae-yeop/cubox/blob/main/cubox_resnet.ipynb\" target=\"_parent\"><img src=\"https://colab.research.google.com/assets/colab-badge.svg\" alt=\"Open In Colab\"/></a>"
      ]
    },
    {
      "cell_type": "markdown",
      "metadata": {
        "id": "Jas1xC0vZGRF"
      },
      "source": [
        "[<h1 align='center'>Deep Residual Learning for Image Recognition</h1>](https://arxiv.org/pdf/1512.03385.pdf)\n",
        "<h2 align='center'> Kaiming He Xiangyu Zhang Shaoqing Ren Jian Sun. </h2>\n"
      ]
    },
    {
      "cell_type": "markdown",
      "metadata": {
        "id": "hQZus4-pl6Mv"
      },
      "source": [
        "---\n",
        "# 1. Summary\n",
        "\n",
        "- The empirical evidences suggest taht deep residual learning, especially identity mapping can be a remedy for the degradation problem and helps to gain better accuracy.\n",
        "\n",
        "- Based on comprehensive experiments, residual learning framework might be universal approach, not akin to particular dataset."
      ]
    },
    {
      "cell_type": "markdown",
      "metadata": {
        "id": "NJ5A5AU-H0JT"
      },
      "source": [
        "---\n",
        "# 2. Motivation\n",
        "\n",
        "Adding more depth to layers are important for better performance, this technique has critical drawbacks.\n",
        "\n",
        "1. Vanishing/Exploding gradients\n",
        "2. Degradation problem\n",
        "\n",
        "First problem can be addressed by proper weight initialization and batch normalization. But still degratdation prolem occurs ; accuracy gets saturated.\n",
        "\n",
        "- Residual representation has been effective in Image recognition tasks. This suggests that reformulation in residual way can simplify the optimization.\n",
        "\n",
        "- Shortcut connection researches have been studied.\n",
        "  - Highway network has gating mechanism, which impose more complexity compared to the proposed method. ; residual function might not achieved."
      ]
    },
    {
      "cell_type": "markdown",
      "metadata": {
        "id": "yw4ZHkvkZp1H"
      },
      "source": [
        "---\n",
        "# 3. Methods\n",
        "\n"
      ]
    },
    {
      "cell_type": "markdown",
      "metadata": {
        "id": "pOb8OvIcKXK9"
      },
      "source": [
        "## Residual Learning Framework\n",
        "\n",
        "let $H(x)$ as desired underlying function. Assume that there exists another mapping of $F(x) :=H(x)-x$. Then we can represent the original mapping as $H(x) = F(x) + x$. It is easire to optimize the function in this seperated setting. To the extreme, if the $H(x)$ is simply identity mapping, then pushing $F(x)$ to 0 will be optimal.\n"
      ]
    },
    {
      "cell_type": "markdown",
      "metadata": {
        "id": "YgDe_KHW-pEI"
      },
      "source": [
        "<img src='https://drive.google.com/uc?id=11RnhK-cLxjQU-rtf2-Gtyb6-ACuTvT3m'/>"
      ]
    },
    {
      "cell_type": "markdown",
      "metadata": {
        "id": "yOxPJCQOZv8T"
      },
      "source": [
        "## Shortcut connection\n",
        "\n",
        "Two type of shortcut connection are considered to deal with channel dimension.\n",
        "\n",
        "- Option(A) : $y = \\mathcal{F} (x, W_i) + x$\n",
        "  - indicates the same dimensions of input and output.\n",
        "  - zero padding for increasing dimensions.\n",
        "  - In two layer setting : $\\mathcal{F} = W_2 \\sigma(W_1 x)$\n",
        "  - seond `ReLU` applied after the elementary-wise addition.\n",
        "\n",
        "- Option(B) : $ y = \\mathcal{F} (x, W_i) + W_s x$\n",
        "  - projection layer $W_s$ with conv1d to match dimensions.\n"
      ]
    },
    {
      "cell_type": "markdown",
      "metadata": {
        "id": "gSUzpvYQiXrl"
      },
      "source": [
        "## Residual Network\n",
        "\n",
        "<img src=\"https://drive.google.com/uc?id=1-LNQNlsytCqBlZvlfAhdid0CFbrX7BIw\">"
      ]
    },
    {
      "cell_type": "markdown",
      "metadata": {
        "id": "7CLMXII9WCdx"
      },
      "source": [
        "- The identity shortcuts can be directly used when input and output are of same dimension.\n",
        "\n",
        "- When dimensions increase\n",
        "  - Option (A): zero-padding to perform idenetity mapping\n",
        "  - Option (B) : projection shortcut done by 1x1 conv.\n",
        "  - When the shortcuts go across feature maps of two sizes, then conv with stride of 2. (Downsampling)"
      ]
    },
    {
      "cell_type": "markdown",
      "metadata": {
        "id": "to2o8nqC2vQ5"
      },
      "source": [
        "---\n",
        "# 4. Experiments\n",
        "\n"
      ]
    },
    {
      "cell_type": "markdown",
      "metadata": {
        "id": "Y7kqY9M-mUDc"
      },
      "source": [
        "## CIFAR-10\n",
        "\n",
        "Architecure\n",
        "-  The first layer is 3×3 conv\n",
        "-  a stack of 6n layers with 3×3 convolutions on the feature maps of sizes {32, 16, 8} respectively,\n",
        "with 2n layers for each feature map size.\n",
        "- A global average pooling -> a 10-way dense layer -> and softmax.\n",
        "- only use Option (A)\n",
        "- He weight initializtion. \n",
        "- Batch Normalization\n",
        "- No dropout\n",
        "\n",
        "Optimization\n",
        "- weighy decay of 0.0001 and momentum of 0.9.\n",
        "- Batch size of 128\n",
        "- start learning rate : 0.1 \n",
        "- divide it by 10 at 32k and 48k iterations, and\n",
        "terminate training at 64k iterations\n",
        "\n",
        "Data augmentation\n",
        "  - For training : \n",
        "    - 4 pixels padded on each side.\n",
        "    - 32x32 random crop and horizontal flip\n",
        "  - For testing : \n",
        "    - the original 32×32 image\n"
      ]
    },
    {
      "cell_type": "markdown",
      "metadata": {
        "id": "EXXAq07szXKN"
      },
      "source": [
        "Results\n",
        "\n",
        "\n",
        "[<img src='https://drive.google.com/uc?id=18aaUvGBwLmU1J988OSJjHc5tBd-A_YVC'/>](https://drive.google.com/file/d/18aaUvGBwLmU1J988OSJjHc5tBd-A_YVC/view?usp=sharing)\n",
        "\n",
        "\n",
        "ResNets manage to overcome the optimization difficulty and demonstrate accuracy gains when the depth increases.\n"
      ]
    },
    {
      "cell_type": "markdown",
      "metadata": {
        "id": "4r238Y_s6GTC"
      },
      "source": [
        "### Implementation\n",
        "\n",
        "1. For [stability issue](https://stackoverflow.com/questions/57516027/does-pytorch-apply-softmax-automatically-in-nn-linear), use `nn.CrossEntropyLoss` as the loss function to the output of last layer `nn.Linear()` instead of using nn.Softmax() directly.\n",
        "2.  Use `nn.AdaptiveAvgPool2d` for GAP. (https://underflow101.tistory.com/41)"
      ]
    },
    {
      "cell_type": "code",
      "metadata": {
        "id": "TF76RBAsvGLa"
      },
      "source": [
        "import torch\n",
        "import torch.nn as nn\n",
        "import torch.nn.functional as F\n",
        "from torchsummary import summary"
      ],
      "execution_count": 1,
      "outputs": []
    },
    {
      "cell_type": "code",
      "metadata": {
        "id": "5A9RiN6ryjTR"
      },
      "source": [
        "def set_random_seed(seed, deterministic=False):\n",
        "    torch.manual_seed(seed)\n",
        "    torch.cuda.manual_seed_all(seed) # if use multi-GPU\n",
        "    if deterministic:\n",
        "        torch.backends.cudnn.deterministic = True\n",
        "        torch.backends.cudnn.benchmark = False\n",
        "\n",
        "set_random_seed(77, True)\n",
        "device = (\"cuda:0\" if torch.cuda.is_available() else \"cpu\")"
      ],
      "execution_count": 2,
      "outputs": []
    },
    {
      "cell_type": "code",
      "metadata": {
        "id": "0g6mP_TcNNPV"
      },
      "source": [
        "import torchvision\n",
        "import torchvision.transforms as transforms\n",
        "import matplotlib.pyplot as plt"
      ],
      "execution_count": 3,
      "outputs": []
    },
    {
      "cell_type": "code",
      "metadata": {
        "colab": {
          "base_uri": "https://localhost:8080/",
          "height": 208,
          "referenced_widgets": [
            "3539abf806214d129faf2ff9b698284f",
            "1f144020a7d742bbb56935999d17f614",
            "560345f11f7646af8e8b924ae2baba1f",
            "5f81ec9b8baf47bab62189980e6b879e",
            "d808a6ae08f1442eb3cf2541893bc302",
            "26c4c44e0bdd4a2b979e94b320a12244",
            "8ddefe4632e04988bb45ff16602155df",
            "b0c2e90e62134a2ab096ccdec0c9310b",
            "5f0fd361b9454e819cbadaabaa69eac6",
            "036aed19272242e6be036f5eb416043c",
            "feaaeb6c27ae4681aa4a5330da23cd1e",
            "c24c9d2685d8430ba2477aa1a6209e59",
            "a029bb790f3c4238934a8e4d78891b21",
            "76391a5de2fc4a489023c680c4a596f7",
            "d72d645168c246f4902f39fb0e6c6d96",
            "4b9d6ee2b48a457f9fb42e3b8c845e4e",
            "a043e557413140ab9d8d5903631e2581",
            "17d865c0dbef4f8f8d832d545d978761",
            "720e1520d91a4ef4a86fe1f408a4f0d4",
            "f73d2b0d7bf9450396051aecb4234f26",
            "960137427d7c4b199bdc9245a5f7372d",
            "e1e48ee2b3134203a9bd9e8aca48489b"
          ]
        },
        "id": "itOLE1uSNTJ7",
        "outputId": "bb3d568f-b913-4ceb-beab-d0e431385201"
      },
      "source": [
        "train_transform = transforms.Compose([transforms.RandomCrop(32, 4),\n",
        "                                      transforms.RandomHorizontalFlip(),\n",
        "                                      transforms.ToTensor(),\n",
        "                                      transforms.Normalize((0.4914, 0.4822, 0.4465), (0.2023, 0.1994, 0.2010))])\n",
        "\n",
        "test_transform = transforms.Compose([transforms.ToTensor(),\n",
        "                                     transforms.Normalize((0.4914, 0.4822, 0.4465), (0.2023, 0.1994, 0.2010))])\n",
        "\n",
        "train_set = torchvision.datasets.CIFAR10(root='/data', train=True,\n",
        "                                        download=True, transform=train_transform)\n",
        "\n",
        "test_set = torchvision.datasets.CIFAR10(root='./data', train=False,\n",
        "                                       download=True, transform=test_transform)\n",
        "\n",
        "batch_size=128\n",
        "\n",
        "train_loader = torch.utils.data.DataLoader(train_set, batch_size=batch_size, shuffle=True, num_workers=4, pin_memory=True)\n",
        "\n",
        "test_loader = torch.utils.data.DataLoader(test_set, batch_size=batch_size,  shuffle=False, num_workers=4, pin_memory=True)\n",
        "                                        "
      ],
      "execution_count": 4,
      "outputs": [
        {
          "output_type": "stream",
          "name": "stdout",
          "text": [
            "Downloading https://www.cs.toronto.edu/~kriz/cifar-10-python.tar.gz to /data/cifar-10-python.tar.gz\n"
          ]
        },
        {
          "output_type": "display_data",
          "data": {
            "application/vnd.jupyter.widget-view+json": {
              "model_id": "3539abf806214d129faf2ff9b698284f",
              "version_minor": 0,
              "version_major": 2
            },
            "text/plain": [
              "  0%|          | 0/170498071 [00:00<?, ?it/s]"
            ]
          },
          "metadata": {}
        },
        {
          "output_type": "stream",
          "name": "stdout",
          "text": [
            "Extracting /data/cifar-10-python.tar.gz to /data\n",
            "Downloading https://www.cs.toronto.edu/~kriz/cifar-10-python.tar.gz to ./data/cifar-10-python.tar.gz\n"
          ]
        },
        {
          "output_type": "display_data",
          "data": {
            "application/vnd.jupyter.widget-view+json": {
              "model_id": "c24c9d2685d8430ba2477aa1a6209e59",
              "version_minor": 0,
              "version_major": 2
            },
            "text/plain": [
              "  0%|          | 0/170498071 [00:00<?, ?it/s]"
            ]
          },
          "metadata": {}
        },
        {
          "output_type": "stream",
          "name": "stdout",
          "text": [
            "Extracting ./data/cifar-10-python.tar.gz to ./data\n"
          ]
        },
        {
          "output_type": "stream",
          "name": "stderr",
          "text": [
            "/usr/local/lib/python3.7/dist-packages/torch/utils/data/dataloader.py:481: UserWarning: This DataLoader will create 4 worker processes in total. Our suggested max number of worker in current system is 2, which is smaller than what this DataLoader is going to create. Please be aware that excessive worker creation might get DataLoader running slow or even freeze, lower the worker number to avoid potential slowness/freeze if necessary.\n",
            "  cpuset_checked))\n"
          ]
        }
      ]
    },
    {
      "cell_type": "code",
      "metadata": {
        "id": "eRNuADTkOKLt"
      },
      "source": [
        "classes = ('plane', 'car', 'bird', 'cat',\n",
        "           'deer', 'dog', 'frog', 'horse', 'ship', 'truck')"
      ],
      "execution_count": 5,
      "outputs": []
    },
    {
      "cell_type": "code",
      "metadata": {
        "colab": {
          "base_uri": "https://localhost:8080/"
        },
        "id": "J7v0cdhEu8eU",
        "outputId": "7a035759-0c33-483b-98c3-6c3f09a4bacd"
      },
      "source": [
        "train_iter = iter(train_loader)\n",
        "images, labels = train_iter.next()"
      ],
      "execution_count": 6,
      "outputs": [
        {
          "output_type": "stream",
          "name": "stderr",
          "text": [
            "/usr/local/lib/python3.7/dist-packages/torch/utils/data/dataloader.py:481: UserWarning: This DataLoader will create 4 worker processes in total. Our suggested max number of worker in current system is 2, which is smaller than what this DataLoader is going to create. Please be aware that excessive worker creation might get DataLoader running slow or even freeze, lower the worker number to avoid potential slowness/freeze if necessary.\n",
            "  cpuset_checked))\n"
          ]
        }
      ]
    },
    {
      "cell_type": "code",
      "metadata": {
        "colab": {
          "base_uri": "https://localhost:8080/"
        },
        "id": "17HGcjegvfQv",
        "outputId": "31201f35-a91a-45d0-a40c-4bd572ed112c"
      },
      "source": [
        "images.shape"
      ],
      "execution_count": 7,
      "outputs": [
        {
          "output_type": "execute_result",
          "data": {
            "text/plain": [
              "torch.Size([128, 3, 32, 32])"
            ]
          },
          "metadata": {},
          "execution_count": 7
        }
      ]
    },
    {
      "cell_type": "code",
      "metadata": {
        "colab": {
          "base_uri": "https://localhost:8080/",
          "height": 284
        },
        "id": "bUODft9UwnT5",
        "outputId": "13c959cb-3ba9-419e-b038-61eefd9fbd6c"
      },
      "source": [
        "plt.imshow(transforms.ToPILImage()(images[10]/2 + 0.5), interpolation=\"bicubic\")"
      ],
      "execution_count": 8,
      "outputs": [
        {
          "output_type": "execute_result",
          "data": {
            "text/plain": [
              "<matplotlib.image.AxesImage at 0x7fcb02106bd0>"
            ]
          },
          "metadata": {},
          "execution_count": 8
        },
        {
          "output_type": "display_data",
          "data": {
            "image/png": "[encoded data removed]",
            "text/plain": [
              "<Figure size 432x288 with 1 Axes>"
            ]
          },
          "metadata": {
            "needs_background": "light"
          }
        }
      ]
    },
    {
      "cell_type": "code",
      "metadata": {
        "id": "MENCtEOuExSY"
      },
      "source": [
        "# https://discuss.pytorch.org/t/how-to-implement-keras-layers-core-lambda-in-pytorch/5903\n",
        "class LambdaLayer(nn.Module):\n",
        "  def __init__(self, lambd):\n",
        "      super(LambdaLayer, self).__init__()\n",
        "      self.lambd = lambd\n",
        "  def forward(self, x):\n",
        "      return self.lambd(x)"
      ],
      "execution_count": 9,
      "outputs": []
    },
    {
      "cell_type": "code",
      "metadata": {
        "id": "NuXIVI9wyQzk"
      },
      "source": [
        "class ResidualBlock(nn.Module):\n",
        "  def __init__(self, in_channels, filters, kernel_size, subsample=False):\n",
        "    super(ResidualBlock, self).__init__()\n",
        "    if subsample is False:\n",
        "      self.conv1 = nn.Conv2d(in_channels, filters, kernel_size, padding='same')\n",
        "      self.shortcut = nn.Sequential()\n",
        "    else:\n",
        "      self.conv1 = nn.Conv2d(in_channels, filters, kernel_size, stride=2, padding=1)\n",
        "      self.shortcut = LambdaLayer(lambda x: F.pad(x[:, :, ::2, ::2], (0, 0, 0, 0, filters//4, filters//4), \"constant\", 0))\n",
        "    \n",
        "    self.conv2 = nn.Conv2d(filters, filters, kernel_size, padding='same')\n",
        "    self.bn1 = nn.BatchNorm2d(filters)\n",
        "    self.bn2 = nn.BatchNorm2d(filters)\n",
        "    \n",
        "  def forward(self, x):\n",
        "    out = F.relu(self.bn1(self.conv1(x)))\n",
        "    out = F.relu(self.bn2(self.conv2(out)) + self.shortcut(x))\n",
        "    return out"
      ],
      "execution_count": 10,
      "outputs": []
    },
    {
      "cell_type": "code",
      "metadata": {
        "id": "oXzwYqd-Xsxb"
      },
      "source": [
        "class ResNet(nn.Module):\n",
        "  def __init__(self, in_channels=3, n=3, num_classes=10):\n",
        "    super(ResNet, self).__init__()\n",
        "    self.num_blk = n\n",
        "    self.conv1 = nn.Conv2d(in_channels=in_channels, out_channels=16, kernel_size=3, padding='same')\n",
        "    self.conv_block1 = self._create_conv_block(16, 16, False)\n",
        "    self.conv_block2 = self._create_conv_block(16, 32, True)\n",
        "    self.conv_block3 = self._create_conv_block(32, 64, True)\n",
        "    self.pool = nn.AdaptiveAvgPool2d((1))\n",
        "    self.fc = nn.Linear(64, num_classes)\n",
        "    \n",
        "    self._reset_parameters()\n",
        "\n",
        "  def _reset_parameters(self):\n",
        "    for m in self.modules():\n",
        "      if isinstance(m, nn.Conv2d):\n",
        "        nn.init.kaiming_normal_(m.weight, mode='fan_out', nonlinearity='relu')\n",
        "      \n",
        "  def _create_conv_block(self, in_channels, filters, subsample):\n",
        "    layer = []\n",
        "    if subsample is False:\n",
        "      for i in range(self.num_blk):\n",
        "        layer.append(ResidualBlock(in_channels, filters, 3, False))\n",
        "    else:\n",
        "      layer.append(ResidualBlock(in_channels, filters, 3, True))\n",
        "      for i in range(self.num_blk-1):\n",
        "        layer.append(ResidualBlock(filters, filters, 3, False))\n",
        "\n",
        "    return nn.Sequential(*layer)\n",
        "\n",
        "  def forward(self, x):\n",
        "    out = self.conv1(x)\n",
        "    out = self.conv_block1(out)\n",
        "    out = self.conv_block2(out)\n",
        "    out = self.conv_block3(out)\n",
        "    out = self.pool(out)\n",
        "    out = torch.flatten(out, start_dim=1)\n",
        "    out = self.fc(out)\n",
        "    return out"
      ],
      "execution_count": 11,
      "outputs": []
    },
    {
      "cell_type": "code",
      "metadata": {
        "id": "ONZxbaa5zINK"
      },
      "source": [
        "resnet = ResNet().to(device)"
      ],
      "execution_count": 12,
      "outputs": []
    },
    {
      "cell_type": "code",
      "metadata": {
        "colab": {
          "base_uri": "https://localhost:8080/"
        },
        "id": "h-TQ2ZU7iI2Z",
        "outputId": "35762b1c-434f-46b1-9f22-9fecaf579c36"
      },
      "source": [
        "summary(resnet, (3, 32, 32))"
      ],
      "execution_count": 13,
      "outputs": [
        {
          "output_type": "stream",
          "name": "stdout",
          "text": [
            "----------------------------------------------------------------\n",
            "        Layer (type)               Output Shape         Param #\n",
            "================================================================\n",
            "            Conv2d-1           [-1, 16, 32, 32]             448\n",
            "            Conv2d-2           [-1, 16, 32, 32]           2,320\n",
            "       BatchNorm2d-3           [-1, 16, 32, 32]              32\n",
            "            Conv2d-4           [-1, 16, 32, 32]           2,320\n",
            "       BatchNorm2d-5           [-1, 16, 32, 32]              32\n",
            "     ResidualBlock-6           [-1, 16, 32, 32]               0\n",
            "            Conv2d-7           [-1, 16, 32, 32]           2,320\n",
            "       BatchNorm2d-8           [-1, 16, 32, 32]              32\n",
            "            Conv2d-9           [-1, 16, 32, 32]           2,320\n",
            "      BatchNorm2d-10           [-1, 16, 32, 32]              32\n",
            "    ResidualBlock-11           [-1, 16, 32, 32]               0\n",
            "           Conv2d-12           [-1, 16, 32, 32]           2,320\n",
            "      BatchNorm2d-13           [-1, 16, 32, 32]              32\n",
            "           Conv2d-14           [-1, 16, 32, 32]           2,320\n",
            "      BatchNorm2d-15           [-1, 16, 32, 32]              32\n",
            "    ResidualBlock-16           [-1, 16, 32, 32]               0\n",
            "           Conv2d-17           [-1, 32, 16, 16]           4,640\n",
            "      BatchNorm2d-18           [-1, 32, 16, 16]              64\n",
            "           Conv2d-19           [-1, 32, 16, 16]           9,248\n",
            "      BatchNorm2d-20           [-1, 32, 16, 16]              64\n",
            "      LambdaLayer-21           [-1, 32, 16, 16]               0\n",
            "    ResidualBlock-22           [-1, 32, 16, 16]               0\n",
            "           Conv2d-23           [-1, 32, 16, 16]           9,248\n",
            "      BatchNorm2d-24           [-1, 32, 16, 16]              64\n",
            "           Conv2d-25           [-1, 32, 16, 16]           9,248\n",
            "      BatchNorm2d-26           [-1, 32, 16, 16]              64\n",
            "    ResidualBlock-27           [-1, 32, 16, 16]               0\n",
            "           Conv2d-28           [-1, 32, 16, 16]           9,248\n",
            "      BatchNorm2d-29           [-1, 32, 16, 16]              64\n",
            "           Conv2d-30           [-1, 32, 16, 16]           9,248\n",
            "      BatchNorm2d-31           [-1, 32, 16, 16]              64\n",
            "    ResidualBlock-32           [-1, 32, 16, 16]               0\n",
            "           Conv2d-33             [-1, 64, 8, 8]          18,496\n",
            "      BatchNorm2d-34             [-1, 64, 8, 8]             128\n",
            "           Conv2d-35             [-1, 64, 8, 8]          36,928\n",
            "      BatchNorm2d-36             [-1, 64, 8, 8]             128\n",
            "      LambdaLayer-37             [-1, 64, 8, 8]               0\n",
            "    ResidualBlock-38             [-1, 64, 8, 8]               0\n",
            "           Conv2d-39             [-1, 64, 8, 8]          36,928\n",
            "      BatchNorm2d-40             [-1, 64, 8, 8]             128\n",
            "           Conv2d-41             [-1, 64, 8, 8]          36,928\n",
            "      BatchNorm2d-42             [-1, 64, 8, 8]             128\n",
            "    ResidualBlock-43             [-1, 64, 8, 8]               0\n",
            "           Conv2d-44             [-1, 64, 8, 8]          36,928\n",
            "      BatchNorm2d-45             [-1, 64, 8, 8]             128\n",
            "           Conv2d-46             [-1, 64, 8, 8]          36,928\n",
            "      BatchNorm2d-47             [-1, 64, 8, 8]             128\n",
            "    ResidualBlock-48             [-1, 64, 8, 8]               0\n",
            "AdaptiveAvgPool2d-49             [-1, 64, 1, 1]               0\n",
            "           Linear-50                   [-1, 10]             650\n",
            "================================================================\n",
            "Total params: 270,378\n",
            "Trainable params: 270,378\n",
            "Non-trainable params: 0\n",
            "----------------------------------------------------------------\n",
            "Input size (MB): 0.01\n",
            "Forward/backward pass size (MB): 3.50\n",
            "Params size (MB): 1.03\n",
            "Estimated Total Size (MB): 4.54\n",
            "----------------------------------------------------------------\n"
          ]
        }
      ]
    },
    {
      "cell_type": "code",
      "metadata": {
        "id": "y2Q2vdszywXJ"
      },
      "source": [
        "import torch.optim as optim\n",
        "\n",
        "criterion = nn.CrossEntropyLoss()\n",
        "optimizer = optim.SGD(resnet.parameters(), weight_decay = 0.0001, momentum=0.9, lr=0.1)\n",
        "scheduler = optim.lr_scheduler.MultiStepLR(optimizer, milestones=[3200,4800], gamma=0.1)\n",
        "print_freq = 100\n",
        "save_every = 100\n",
        "epochs = 10 # 6400"
      ],
      "execution_count": 14,
      "outputs": []
    },
    {
      "cell_type": "code",
      "metadata": {
        "id": "n8BKDUdh2Cfw"
      },
      "source": [
        ""
      ],
      "execution_count": null,
      "outputs": []
    },
    {
      "cell_type": "code",
      "metadata": {
        "colab": {
          "base_uri": "https://localhost:8080/"
        },
        "id": "y3H1vwcyw3sQ",
        "outputId": "26d27303-de05-4036-b335-ad7f85e76d73"
      },
      "source": [
        "acc_history = []\n",
        "for epoch in range(epochs):\n",
        "  train_loss = 0\n",
        "  correct = 0\n",
        "  total = 0\n",
        "  for i, (inputs, targets) in enumerate(train_loader, 0):\n",
        "    inputs, targets = inputs.to(device), targets.to(device)\n",
        "    optimizer.zero_grad()\n",
        "    outputs = resnet(inputs)\n",
        "    loss = criterion(outputs, targets)\n",
        "    loss.backward()\n",
        "    optimizer.step()\n",
        "\n",
        "    train_loss += loss.item()\n",
        "    _, predicted = outputs.max(1)\n",
        "    total += targets.size(0)\n",
        "    correct += predicted.eq(targets).sum().item()\n",
        "    accuracy = correct/total *100\n",
        "    acc_history.append(accuracy)\n",
        "    if i % print_freq == 0:\n",
        "      print(f\"Epoch : {epoch}, Batch: {i}/{len(train_loader)} Loss : {train_loss/(i + 1)} Acc : {accuracy}\")\n",
        "  scheduler.step()\n",
        "  \n",
        "  if epoch % save_every == 0:\n",
        "    torch.save(resnet.state_dict(),'checpoint.pth')\n"
      ],
      "execution_count": 15,
      "outputs": [
        {
          "output_type": "stream",
          "name": "stderr",
          "text": [
            "/usr/local/lib/python3.7/dist-packages/torch/utils/data/dataloader.py:481: UserWarning: This DataLoader will create 4 worker processes in total. Our suggested max number of worker in current system is 2, which is smaller than what this DataLoader is going to create. Please be aware that excessive worker creation might get DataLoader running slow or even freeze, lower the worker number to avoid potential slowness/freeze if necessary.\n",
            "  cpuset_checked))\n"
          ]
        },
        {
          "output_type": "stream",
          "name": "stdout",
          "text": [
            "Epoch : 0, Batch: 0/391 Loss : 2.733283281326294 Acc : 7.8125\n",
            "Epoch : 0, Batch: 100/391 Loss : 1.9827831523253185 Acc : 25.750309405940598\n",
            "Epoch : 0, Batch: 200/391 Loss : 1.8188852955452839 Acc : 31.704757462686565\n",
            "Epoch : 0, Batch: 300/391 Loss : 1.7137734478098214 Acc : 35.68054401993355\n",
            "Epoch : 1, Batch: 0/391 Loss : 1.380615234375 Acc : 49.21875\n",
            "Epoch : 1, Batch: 100/391 Loss : 1.2642561822834582 Acc : 54.014542079207914\n",
            "Epoch : 1, Batch: 200/391 Loss : 1.2218618238743264 Acc : 55.80690298507462\n",
            "Epoch : 1, Batch: 300/391 Loss : 1.1769823079489394 Acc : 57.46470099667774\n",
            "Epoch : 2, Batch: 0/391 Loss : 1.1502963304519653 Acc : 60.9375\n",
            "Epoch : 2, Batch: 100/391 Loss : 0.9891868540556124 Acc : 64.57301980198021\n",
            "Epoch : 2, Batch: 200/391 Loss : 0.9601902078040203 Acc : 65.70662313432835\n",
            "Epoch : 2, Batch: 300/391 Loss : 0.937030090644114 Acc : 66.54640780730897\n",
            "Epoch : 3, Batch: 0/391 Loss : 0.6801171898841858 Acc : 72.65625\n",
            "Epoch : 3, Batch: 100/391 Loss : 0.827189300319936 Acc : 70.54455445544554\n",
            "Epoch : 3, Batch: 200/391 Loss : 0.8064690902458495 Acc : 71.4863184079602\n",
            "Epoch : 3, Batch: 300/391 Loss : 0.7919914587787615 Acc : 72.21241694352159\n",
            "Epoch : 4, Batch: 0/391 Loss : 0.7996818423271179 Acc : 69.53125\n",
            "Epoch : 4, Batch: 100/391 Loss : 0.7181861320934674 Acc : 74.80662128712872\n",
            "Epoch : 4, Batch: 200/391 Loss : 0.6992529958338287 Acc : 75.66464552238806\n",
            "Epoch : 4, Batch: 300/391 Loss : 0.6986568066170842 Acc : 75.70598006644518\n",
            "Epoch : 5, Batch: 0/391 Loss : 0.661952018737793 Acc : 78.125\n",
            "Epoch : 5, Batch: 100/391 Loss : 0.6408188177807497 Acc : 77.69956683168317\n",
            "Epoch : 5, Batch: 200/391 Loss : 0.6449333203965751 Acc : 77.5264303482587\n",
            "Epoch : 5, Batch: 300/391 Loss : 0.631876863118422 Acc : 78.01598837209302\n",
            "Epoch : 6, Batch: 0/391 Loss : 0.4832496643066406 Acc : 82.03125\n",
            "Epoch : 6, Batch: 100/391 Loss : 0.5858895793409631 Acc : 79.73391089108911\n",
            "Epoch : 6, Batch: 200/391 Loss : 0.5828273019090814 Acc : 79.75746268656717\n",
            "Epoch : 6, Batch: 300/391 Loss : 0.5846618190160225 Acc : 79.74719684385381\n",
            "Epoch : 7, Batch: 0/391 Loss : 0.6031690835952759 Acc : 78.125\n",
            "Epoch : 7, Batch: 100/391 Loss : 0.5483950612568619 Acc : 81.11850247524752\n",
            "Epoch : 7, Batch: 200/391 Loss : 0.5430958686183341 Acc : 81.31996268656717\n",
            "Epoch : 7, Batch: 300/391 Loss : 0.5438446027297911 Acc : 81.28633720930233\n",
            "Epoch : 8, Batch: 0/391 Loss : 0.6341542601585388 Acc : 75.78125\n",
            "Epoch : 8, Batch: 100/391 Loss : 0.5177001507565526 Acc : 81.97710396039604\n",
            "Epoch : 8, Batch: 200/391 Loss : 0.5219763962190542 Acc : 81.73973880597015\n",
            "Epoch : 8, Batch: 300/391 Loss : 0.5214078980822896 Acc : 81.89109219269103\n",
            "Epoch : 9, Batch: 0/391 Loss : 0.5527288913726807 Acc : 78.90625\n",
            "Epoch : 9, Batch: 100/391 Loss : 0.4998587192875324 Acc : 82.83570544554455\n",
            "Epoch : 9, Batch: 200/391 Loss : 0.49561751259500114 Acc : 83.03016169154229\n",
            "Epoch : 9, Batch: 300/391 Loss : 0.49506741861172293 Acc : 82.85402823920266\n"
          ]
        }
      ]
    },
    {
      "cell_type": "code",
      "metadata": {
        "colab": {
          "base_uri": "https://localhost:8080/",
          "height": 279
        },
        "id": "-XCf_b1z0w1R",
        "outputId": "f1ac2602-d7ed-4dd7-d6ad-19b6b9eb1bfe"
      },
      "source": [
        "import numpy as np\n",
        "\n",
        "fig = plt.figure()\n",
        "ax = fig.add_subplot(111)\n",
        "plt.plot(np.arange(1, len(acc_history)+1), acc_history)\n",
        "plt.ylabel('accuracy')\n",
        "plt.xlabel('iterations')\n",
        "plt.show()"
      ],
      "execution_count": 18,
      "outputs": [
        {
          "output_type": "display_data",
          "data": {
            "image/png": "[encoded data removed]",
            "text/plain": [
              "<Figure size 432x288 with 1 Axes>"
            ]
          },
          "metadata": {
            "needs_background": "light"
          }
        }
      ]
    },
    {
      "cell_type": "code",
      "metadata": {
        "id": "bFnWhGO4JDAK",
        "colab": {
          "base_uri": "https://localhost:8080/"
        },
        "outputId": "92351904-e85f-4136-eee8-c0c098504544"
      },
      "source": [
        "# Inference\n",
        "img, label = next(iter(test_loader))\n",
        "img = img[0:10].to(device)\n",
        "label = label[0:10]\n",
        "out = resnet(img)"
      ],
      "execution_count": 19,
      "outputs": [
        {
          "output_type": "stream",
          "name": "stderr",
          "text": [
            "/usr/local/lib/python3.7/dist-packages/torch/utils/data/dataloader.py:481: UserWarning: This DataLoader will create 4 worker processes in total. Our suggested max number of worker in current system is 2, which is smaller than what this DataLoader is going to create. Please be aware that excessive worker creation might get DataLoader running slow or even freeze, lower the worker number to avoid potential slowness/freeze if necessary.\n",
            "  cpuset_checked))\n"
          ]
        }
      ]
    },
    {
      "cell_type": "code",
      "metadata": {
        "id": "jRJGwqJNKM4A"
      },
      "source": [
        "import numpy as np\n",
        "def imshow(img):\n",
        "  img = img / 2 + 0.5\n",
        "  npimg = img.numpy()\n",
        "  plt.imshow(np.transpose(npimg, (1, 2, 0)))"
      ],
      "execution_count": 20,
      "outputs": []
    },
    {
      "cell_type": "code",
      "metadata": {
        "colab": {
          "base_uri": "https://localhost:8080/",
          "height": 353
        },
        "id": "uTbNG_ghJ-3t",
        "outputId": "c68efb97-1874-47cc-d4c8-1920c2a80699"
      },
      "source": [
        "plt.figure(figsize=(20,10)) \n",
        "imshow(torchvision.utils.make_grid(img.cpu()))"
      ],
      "execution_count": 21,
      "outputs": [
        {
          "output_type": "stream",
          "name": "stderr",
          "text": [
            "Clipping input data to the valid range for imshow with RGB data ([0..1] for floats or [0..255] for integers).\n"
          ]
        },
        {
          "output_type": "display_data",
          "data": {
            "image/png": "[encoded data removed]",
            "text/plain": [
              "<Figure size 1440x720 with 1 Axes>"
            ]
          },
          "metadata": {
            "needs_background": "light"
          }
        }
      ]
    },
    {
      "cell_type": "code",
      "metadata": {
        "colab": {
          "base_uri": "https://localhost:8080/"
        },
        "id": "9Xq1u_cgMbHb",
        "outputId": "8a34a9a0-4311-47b8-b387-d800054183b8"
      },
      "source": [
        "# Groud truth\n",
        "print(' '.join(classes[i] for i in label))"
      ],
      "execution_count": 22,
      "outputs": [
        {
          "output_type": "stream",
          "name": "stdout",
          "text": [
            "cat ship ship plane frog frog car frog cat car\n"
          ]
        }
      ]
    },
    {
      "cell_type": "code",
      "metadata": {
        "colab": {
          "base_uri": "https://localhost:8080/"
        },
        "id": "xLKUefcbJpNr",
        "outputId": "d1b2c94e-2a19-4aa0-cd32-dbc68747c43c"
      },
      "source": [
        "out.argmax(1)"
      ],
      "execution_count": 23,
      "outputs": [
        {
          "output_type": "execute_result",
          "data": {
            "text/plain": [
              "tensor([3, 8, 8, 0, 6, 5, 1, 2, 3, 1], device='cuda:0')"
            ]
          },
          "metadata": {},
          "execution_count": 23
        }
      ]
    },
    {
      "cell_type": "code",
      "metadata": {
        "colab": {
          "base_uri": "https://localhost:8080/"
        },
        "id": "ZICgE2UnJwOr",
        "outputId": "12327fa8-6206-47b7-cf93-4200d966ee8c"
      },
      "source": [
        "# Predition\n",
        "print(' '.join(classes[i] for i in out.argmax(1)))"
      ],
      "execution_count": 24,
      "outputs": [
        {
          "output_type": "stream",
          "name": "stdout",
          "text": [
            "cat ship ship plane frog dog car bird cat car\n"
          ]
        }
      ]
    },
    {
      "cell_type": "markdown",
      "metadata": {
        "id": "3ysSq0vlcCLR"
      },
      "source": [
        "---\n",
        "## ImageNet\n",
        "\n"
      ]
    },
    {
      "cell_type": "markdown",
      "metadata": {
        "id": "qwWKV7r5YFO1"
      },
      "source": [
        "### Performance of Classification\n",
        "\n",
        "It shows the degradation problem is well addressed. \n",
        "\n",
        "<img src='https://drive.google.com/uc?id=1EsaDM2ytXAVjlPG-B0iuqBt16VT8mviT'>\n",
        "<img src='https://drive.google.com/uc?id=1COWK-No3ReOVfM8ipB8XB3vRhI7yeZlT'/>"
      ]
    },
    {
      "cell_type": "markdown",
      "metadata": {
        "id": "cU0AtMwhZqlp"
      },
      "source": [
        "Resnet-18, Resnet-34 : |a shortcut connection is added to each pair of 3x3 filters. Use identity mapping for all shortcuts and option(A)"
      ]
    },
    {
      "cell_type": "markdown",
      "metadata": {
        "id": "LHNp4GpCcEyr"
      },
      "source": [
        "### Identity vs Projection Shortcuts\n",
        "\n",
        "Tested with 3 variant shortcut options. All 3 are better than the plain baseline. But the difference is small.\n",
        "\n",
        "<img src='https://drive.google.com/uc?id=1QqQNK_2XidXmhfncP3PSDoGPjX4HkinM'/>\n",
        "\n",
        "Deeper resnet are of option B for increasing dimensions."
      ]
    },
    {
      "cell_type": "markdown",
      "metadata": {
        "id": "-ygl_u4QWi1o"
      },
      "source": [
        "### Deeper Bottleneck Architecrue\n",
        "\n",
        "Use 3-layer bottleneck blocks instead of 2-layer block to reduce complexity.\n",
        "Apply Option(B) only when dimension matching is neeeded.\n",
        "\n",
        "<img src='https://drive.google.com/uc?id=1G-QZEMX8Cc8ILulqVYn2jD9aH2Oikq6w'/>"
      ]
    },
    {
      "cell_type": "markdown",
      "metadata": {
        "id": "D361yqLUcj9Y"
      },
      "source": [
        "- First 1x1 conv : reducing dimensions.\n",
        "- Second 1x1 conv : restoring dimensions.\n",
        "- Identity shortcut is prefered in bottlenet setting.\n",
        "\n",
        "Resnet-101, 152 stll less complexity than VGG 16/19.\n"
      ]
    },
    {
      "cell_type": "markdown",
      "metadata": {
        "id": "vnOCsj5bOQcX"
      },
      "source": [
        "### Implmentation\n",
        "\n",
        "Architecture\n",
        "- Apply Batch Normalization right after each conv and before activation. \n",
        "- Weight Initialization\n",
        "- No dropout\n",
        "\n",
        "Optimizer\n",
        "- SGD\n",
        "- batch size of 256.\n",
        "- start learning rate : 0.1\n",
        "- lr decay divided by 10 when the error plateaus\n",
        "- weight decay : 0.0001\n",
        "- momentum : 0.9\n",
        "- epoch : 600,000\n",
        "\n",
        "Data Augmentation\n",
        "- 224 x 224 random crop\n",
        "- horizontal flip\n",
        "- per-pixel mean substracted\n",
        "- color augmentation\n",
        "\n",
        "In testing, for comparison studies we adopt the standard\n",
        "10-crop testing [21]. For best results, we adopt the fullyconvolutional form as in [41, 13], and average the scores\n",
        "at multiple scales (images are resized such that the shorter\n",
        "side is in {224, 256, 384, 480, 640})."
      ]
    },
    {
      "cell_type": "code",
      "metadata": {
        "id": "C8_S2WeFWlBf"
      },
      "source": [
        "import torch\n",
        "import torch.nn as nn\n",
        "import torch.nn.functional as F\n",
        "from torchsummary import summary"
      ],
      "execution_count": 25,
      "outputs": []
    },
    {
      "cell_type": "code",
      "metadata": {
        "id": "vtiOIya5fCQx"
      },
      "source": [
        "def set_random_seed(seed, deterministic=False):\n",
        "    # random.seed(seed)\n",
        "    # np.random.seed(seed)\n",
        "    torch.manual_seed(seed)\n",
        "    torch.cuda.manual_seed_all(seed) # if use multi-GPU\n",
        "    if deterministic:\n",
        "        torch.backends.cudnn.deterministic = True\n",
        "        torch.backends.cudnn.benchmark = False\n",
        "\n",
        "set_random_seed(77, True)\n",
        "device = (\"cuda:0\" if torch.cuda.is_available() else \"cpu\")"
      ],
      "execution_count": 26,
      "outputs": []
    },
    {
      "cell_type": "code",
      "metadata": {
        "id": "rTwdPu2WfXMQ"
      },
      "source": [
        "import torchvision\n",
        "import torchvision.transforms as transforms\n",
        "import matplotlib.pyplot as plt"
      ],
      "execution_count": 27,
      "outputs": []
    },
    {
      "cell_type": "code",
      "metadata": {
        "id": "bK1EGsdhtEuh"
      },
      "source": [
        "class ResidualBlock(nn.Module):\n",
        "  def __init__(self, in_channels, filters, subsample):\n",
        "    super(ResidualBlock, self).__init__()\n",
        "    self.conv1 = nn.Conv2d(in_channels, filters, 1)\n",
        "    self.bn1 = nn.BatchNorm2d(filters)\n",
        "    if subsample is True:\n",
        "      stride = 2\n",
        "    else:\n",
        "      stride = 1\n",
        "    self.conv2 = nn.Conv2d(filters, filters, 3, stride, padding=1)\n",
        "    self.bn2 = nn.BatchNorm2d(filters)\n",
        "    self.conv3 = nn.Conv2d(filters, filters*4, 1)\n",
        "    self.bn3 = nn.BatchNorm2d(filters*4)\n",
        "    self.shortcut = nn.Sequential()\n",
        "\n",
        "    if subsample is True or in_channels != filters*4:\n",
        "      self.shortcut = nn.Sequential(nn.Conv2d(in_channels, 4*filters, 1, stride),\n",
        "                                    nn.BatchNorm2d(4*filters))\n",
        "\n",
        "  def forward(self, x):\n",
        "    out = F.relu(self.bn1(self.conv1(x)))\n",
        "    out = F.relu(self.bn2(self.conv2(out)))\n",
        "    out = F.relu(self.bn3(self.conv3(out)))\n",
        "    out = F.relu(out + self.shortcut(x))\n",
        "    return out"
      ],
      "execution_count": 32,
      "outputs": []
    },
    {
      "cell_type": "code",
      "metadata": {
        "id": "sX6xMmDo1rgB"
      },
      "source": [
        "class ResNet50(nn.Module):\n",
        "  def __init__(self, in_channels=3, num_classes=1000):\n",
        "    super(ResNet50, self).__init__()\n",
        "    self.conv1 = nn.Conv2d(in_channels=in_channels, out_channels=64, kernel_size=7, padding=1, stride=2)\n",
        "    self.pool = nn.MaxPool2d(kernel_size=3, stride=2)\n",
        "\n",
        "    self.conv_block1 = self._create_conv_block(64, 64, [False, False, False])\n",
        "    self.conv_block2 = self._create_conv_block(256, 128, [True, False, False, False] )\n",
        "    self.conv_block3 = self._create_conv_block(512, 256, [True, False, False, False, False, False])\n",
        "    self.conv_block4 = self._create_conv_block(1024, 512, [True, False, False])\n",
        "    self.pool = nn.AdaptiveAvgPool2d((1))\n",
        "    self.fc = nn.Linear(2048, num_classes)\n",
        "    \n",
        "    self._reset_parameters()\n",
        "\n",
        "  def _reset_parameters(self):\n",
        "    for m in self.modules():\n",
        "      if isinstance(m, nn.Conv2d):\n",
        "        nn.init.kaiming_normal_(m.weight, mode='fan_out', nonlinearity='relu')\n",
        "      \n",
        "  def _create_conv_block(self, in_channels, filters, subsample_list):\n",
        "    layers = []\n",
        "    for subsample in subsample_list:\n",
        "      layers.append(ResidualBlock(in_channels, filters, subsample))\n",
        "      in_channels = filters * 4\n",
        "    return nn.Sequential(*layers)\n",
        "\n",
        "  def forward(self, x):\n",
        "    out = self.conv1(x)\n",
        "    out = self.conv_block1(out)\n",
        "    out = self.conv_block2(out)\n",
        "    out = self.conv_block3(out)\n",
        "    out = self.conv_block4(out)\n",
        "    out = self.pool(out)\n",
        "    out = torch.flatten(out, start_dim=1)\n",
        "    out = self.fc(out)\n",
        "    return out"
      ],
      "execution_count": 33,
      "outputs": []
    },
    {
      "cell_type": "code",
      "metadata": {
        "id": "vEGG14n7ty3h"
      },
      "source": [
        "resnet = ResNet50().to(device)"
      ],
      "execution_count": 36,
      "outputs": []
    },
    {
      "cell_type": "code",
      "metadata": {
        "colab": {
          "base_uri": "https://localhost:8080/"
        },
        "id": "a2OGx3ZXqx3y",
        "outputId": "d08b427e-d590-4081-de05-c6e8a911c9aa"
      },
      "source": [
        "summary(resnet, (3, 224, 224))"
      ],
      "execution_count": 37,
      "outputs": [
        {
          "output_type": "stream",
          "name": "stdout",
          "text": [
            "----------------------------------------------------------------\n",
            "        Layer (type)               Output Shape         Param #\n",
            "================================================================\n",
            "            Conv2d-1         [-1, 64, 110, 110]           9,472\n",
            "            Conv2d-2         [-1, 64, 110, 110]           4,160\n",
            "       BatchNorm2d-3         [-1, 64, 110, 110]             128\n",
            "            Conv2d-4         [-1, 64, 110, 110]          36,928\n",
            "       BatchNorm2d-5         [-1, 64, 110, 110]             128\n",
            "            Conv2d-6        [-1, 256, 110, 110]          16,640\n",
            "       BatchNorm2d-7        [-1, 256, 110, 110]             512\n",
            "            Conv2d-8        [-1, 256, 110, 110]          16,640\n",
            "       BatchNorm2d-9        [-1, 256, 110, 110]             512\n",
            "    ResidualBlock-10        [-1, 256, 110, 110]               0\n",
            "           Conv2d-11         [-1, 64, 110, 110]          16,448\n",
            "      BatchNorm2d-12         [-1, 64, 110, 110]             128\n",
            "           Conv2d-13         [-1, 64, 110, 110]          36,928\n",
            "      BatchNorm2d-14         [-1, 64, 110, 110]             128\n",
            "           Conv2d-15        [-1, 256, 110, 110]          16,640\n",
            "      BatchNorm2d-16        [-1, 256, 110, 110]             512\n",
            "    ResidualBlock-17        [-1, 256, 110, 110]               0\n",
            "           Conv2d-18         [-1, 64, 110, 110]          16,448\n",
            "      BatchNorm2d-19         [-1, 64, 110, 110]             128\n",
            "           Conv2d-20         [-1, 64, 110, 110]          36,928\n",
            "      BatchNorm2d-21         [-1, 64, 110, 110]             128\n",
            "           Conv2d-22        [-1, 256, 110, 110]          16,640\n",
            "      BatchNorm2d-23        [-1, 256, 110, 110]             512\n",
            "    ResidualBlock-24        [-1, 256, 110, 110]               0\n",
            "           Conv2d-25        [-1, 128, 110, 110]          32,896\n",
            "      BatchNorm2d-26        [-1, 128, 110, 110]             256\n",
            "           Conv2d-27          [-1, 128, 55, 55]         147,584\n",
            "      BatchNorm2d-28          [-1, 128, 55, 55]             256\n",
            "           Conv2d-29          [-1, 512, 55, 55]          66,048\n",
            "      BatchNorm2d-30          [-1, 512, 55, 55]           1,024\n",
            "           Conv2d-31          [-1, 512, 55, 55]         131,584\n",
            "      BatchNorm2d-32          [-1, 512, 55, 55]           1,024\n",
            "    ResidualBlock-33          [-1, 512, 55, 55]               0\n",
            "           Conv2d-34          [-1, 128, 55, 55]          65,664\n",
            "      BatchNorm2d-35          [-1, 128, 55, 55]             256\n",
            "           Conv2d-36          [-1, 128, 55, 55]         147,584\n",
            "      BatchNorm2d-37          [-1, 128, 55, 55]             256\n",
            "           Conv2d-38          [-1, 512, 55, 55]          66,048\n",
            "      BatchNorm2d-39          [-1, 512, 55, 55]           1,024\n",
            "    ResidualBlock-40          [-1, 512, 55, 55]               0\n",
            "           Conv2d-41          [-1, 128, 55, 55]          65,664\n",
            "      BatchNorm2d-42          [-1, 128, 55, 55]             256\n",
            "           Conv2d-43          [-1, 128, 55, 55]         147,584\n",
            "      BatchNorm2d-44          [-1, 128, 55, 55]             256\n",
            "           Conv2d-45          [-1, 512, 55, 55]          66,048\n",
            "      BatchNorm2d-46          [-1, 512, 55, 55]           1,024\n",
            "    ResidualBlock-47          [-1, 512, 55, 55]               0\n",
            "           Conv2d-48          [-1, 128, 55, 55]          65,664\n",
            "      BatchNorm2d-49          [-1, 128, 55, 55]             256\n",
            "           Conv2d-50          [-1, 128, 55, 55]         147,584\n",
            "      BatchNorm2d-51          [-1, 128, 55, 55]             256\n",
            "           Conv2d-52          [-1, 512, 55, 55]          66,048\n",
            "      BatchNorm2d-53          [-1, 512, 55, 55]           1,024\n",
            "    ResidualBlock-54          [-1, 512, 55, 55]               0\n",
            "           Conv2d-55          [-1, 256, 55, 55]         131,328\n",
            "      BatchNorm2d-56          [-1, 256, 55, 55]             512\n",
            "           Conv2d-57          [-1, 256, 28, 28]         590,080\n",
            "      BatchNorm2d-58          [-1, 256, 28, 28]             512\n",
            "           Conv2d-59         [-1, 1024, 28, 28]         263,168\n",
            "      BatchNorm2d-60         [-1, 1024, 28, 28]           2,048\n",
            "           Conv2d-61         [-1, 1024, 28, 28]         525,312\n",
            "      BatchNorm2d-62         [-1, 1024, 28, 28]           2,048\n",
            "    ResidualBlock-63         [-1, 1024, 28, 28]               0\n",
            "           Conv2d-64          [-1, 256, 28, 28]         262,400\n",
            "      BatchNorm2d-65          [-1, 256, 28, 28]             512\n",
            "           Conv2d-66          [-1, 256, 28, 28]         590,080\n",
            "      BatchNorm2d-67          [-1, 256, 28, 28]             512\n",
            "           Conv2d-68         [-1, 1024, 28, 28]         263,168\n",
            "      BatchNorm2d-69         [-1, 1024, 28, 28]           2,048\n",
            "    ResidualBlock-70         [-1, 1024, 28, 28]               0\n",
            "           Conv2d-71          [-1, 256, 28, 28]         262,400\n",
            "      BatchNorm2d-72          [-1, 256, 28, 28]             512\n",
            "           Conv2d-73          [-1, 256, 28, 28]         590,080\n",
            "      BatchNorm2d-74          [-1, 256, 28, 28]             512\n",
            "           Conv2d-75         [-1, 1024, 28, 28]         263,168\n",
            "      BatchNorm2d-76         [-1, 1024, 28, 28]           2,048\n",
            "    ResidualBlock-77         [-1, 1024, 28, 28]               0\n",
            "           Conv2d-78          [-1, 256, 28, 28]         262,400\n",
            "      BatchNorm2d-79          [-1, 256, 28, 28]             512\n",
            "           Conv2d-80          [-1, 256, 28, 28]         590,080\n",
            "      BatchNorm2d-81          [-1, 256, 28, 28]             512\n",
            "           Conv2d-82         [-1, 1024, 28, 28]         263,168\n",
            "      BatchNorm2d-83         [-1, 1024, 28, 28]           2,048\n",
            "    ResidualBlock-84         [-1, 1024, 28, 28]               0\n",
            "           Conv2d-85          [-1, 256, 28, 28]         262,400\n",
            "      BatchNorm2d-86          [-1, 256, 28, 28]             512\n",
            "           Conv2d-87          [-1, 256, 28, 28]         590,080\n",
            "      BatchNorm2d-88          [-1, 256, 28, 28]             512\n",
            "           Conv2d-89         [-1, 1024, 28, 28]         263,168\n",
            "      BatchNorm2d-90         [-1, 1024, 28, 28]           2,048\n",
            "    ResidualBlock-91         [-1, 1024, 28, 28]               0\n",
            "           Conv2d-92          [-1, 256, 28, 28]         262,400\n",
            "      BatchNorm2d-93          [-1, 256, 28, 28]             512\n",
            "           Conv2d-94          [-1, 256, 28, 28]         590,080\n",
            "      BatchNorm2d-95          [-1, 256, 28, 28]             512\n",
            "           Conv2d-96         [-1, 1024, 28, 28]         263,168\n",
            "      BatchNorm2d-97         [-1, 1024, 28, 28]           2,048\n",
            "    ResidualBlock-98         [-1, 1024, 28, 28]               0\n",
            "           Conv2d-99          [-1, 512, 28, 28]         524,800\n",
            "     BatchNorm2d-100          [-1, 512, 28, 28]           1,024\n",
            "          Conv2d-101          [-1, 512, 14, 14]       2,359,808\n",
            "     BatchNorm2d-102          [-1, 512, 14, 14]           1,024\n",
            "          Conv2d-103         [-1, 2048, 14, 14]       1,050,624\n",
            "     BatchNorm2d-104         [-1, 2048, 14, 14]           4,096\n",
            "          Conv2d-105         [-1, 2048, 14, 14]       2,099,200\n",
            "     BatchNorm2d-106         [-1, 2048, 14, 14]           4,096\n",
            "   ResidualBlock-107         [-1, 2048, 14, 14]               0\n",
            "          Conv2d-108          [-1, 512, 14, 14]       1,049,088\n",
            "     BatchNorm2d-109          [-1, 512, 14, 14]           1,024\n",
            "          Conv2d-110          [-1, 512, 14, 14]       2,359,808\n",
            "     BatchNorm2d-111          [-1, 512, 14, 14]           1,024\n",
            "          Conv2d-112         [-1, 2048, 14, 14]       1,050,624\n",
            "     BatchNorm2d-113         [-1, 2048, 14, 14]           4,096\n",
            "   ResidualBlock-114         [-1, 2048, 14, 14]               0\n",
            "          Conv2d-115          [-1, 512, 14, 14]       1,049,088\n",
            "     BatchNorm2d-116          [-1, 512, 14, 14]           1,024\n",
            "          Conv2d-117          [-1, 512, 14, 14]       2,359,808\n",
            "     BatchNorm2d-118          [-1, 512, 14, 14]           1,024\n",
            "          Conv2d-119         [-1, 2048, 14, 14]       1,050,624\n",
            "     BatchNorm2d-120         [-1, 2048, 14, 14]           4,096\n",
            "   ResidualBlock-121         [-1, 2048, 14, 14]               0\n",
            "AdaptiveAvgPool2d-122           [-1, 2048, 1, 1]               0\n",
            "          Linear-123                 [-1, 1000]       2,049,000\n",
            "================================================================\n",
            "Total params: 25,583,464\n",
            "Trainable params: 25,583,464\n",
            "Non-trainable params: 0\n",
            "----------------------------------------------------------------\n",
            "Input size (MB): 0.57\n",
            "Forward/backward pass size (MB): 782.68\n",
            "Params size (MB): 97.59\n",
            "Estimated Total Size (MB): 880.85\n",
            "----------------------------------------------------------------\n"
          ]
        }
      ]
    },
    {
      "cell_type": "code",
      "metadata": {
        "id": "DPuXXUafymon"
      },
      "source": [
        ""
      ],
      "execution_count": null,
      "outputs": []
    }
  ]
}