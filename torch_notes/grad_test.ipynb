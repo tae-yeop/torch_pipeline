{
 "cells": [
  {
   "cell_type": "markdown",
   "metadata": {},
   "source": [
    "How to grad"
   ]
  },
  {
   "cell_type": "code",
   "execution_count": null,
   "metadata": {
    "vscode": {
     "languageId": "plaintext"
    }
   },
   "outputs": [],
   "source": [
    "from torch.autograd import grad\n",
    "import torch\n",
    "import torch.nn as nn\n",
    "\n",
    "i = torch.randn(3, 3, 256, 256)\n",
    "l = torch.randn(3, )\n",
    "m = nn.Linear(256*256*3,1)\n",
    "i.requires_grad_(True)\n",
    "o = m(torch.flatten(i, 1))\n",
    "\n",
    "\n",
    "print(o.shape)\n",
    "# i.requires_grad_(True)\n",
    "# l = l.requires_grad_(True)\n",
    "\n",
    "print(o.requires_grad)\n",
    "# print(l.sum().shape)\n",
    "p = grad(outputs=o.sum(), inputs=i, create_graph=False)#, allow_unused=True)\n",
    "print(len(p))\n",
    "print(p[0].sum([1,2,3]).mean().shape)\n",
    "# print(p.shape)"
   ]
  },
  {
   "cell_type": "markdown",
   "metadata": {},
   "source": [
    "### Inplace gradient"
   ]
  },
  {
   "cell_type": "code",
   "execution_count": null,
   "metadata": {
    "vscode": {
     "languageId": "plaintext"
    }
   },
   "outputs": [],
   "source": [
    "import torch\n",
    "\n",
    "x = torch.tensor([[1.0, 2.0], [3.0, 4.0]], requires_grad=True)\n",
    "y = x.view(-1)  # 메모리를 공유\n",
    "\n",
    "# In-place 연산\n",
    "y[0] = 99.0  # 원본 텐서 x에도 영향을 미침\n",
    "\n",
    "# 역전파 시도\n",
    "try:\n",
    "    y.sum().backward()\n",
    "except RuntimeError as e:\n",
    "    print(\"Error during backward pass:\", e)\n",
    "\n"
   ]
  },
  {
   "cell_type": "markdown",
   "metadata": {},
   "source": [
    "### Indexing"
   ]
  },
  {
   "cell_type": "code",
   "execution_count": null,
   "metadata": {
    "vscode": {
     "languageId": "plaintext"
    }
   },
   "outputs": [],
   "source": [
    "import torch\n",
    "\n",
    "x = torch.randn(5, 3, requires_grad=True)\n",
    "indices = torch.tensor([0, 2, 4])\n",
    "\n",
    "# torch.index_select(): 그래프 유지\n",
    "y_select = torch.index_select(x, dim=0, index=indices).sum()\n",
    "y_select.backward(retain_graph=True)\n",
    "print(\"Grad after index_select:\", x.grad)\n",
    "\n",
    "# 단순 인덱싱: 그래프 유지 안됨 (가정)\n",
    "x.grad = None\n",
    "y_indexing = x[[0, 2, 4]].detach()  # detach로 연산 그래프 끊기\n",
    "loss_indexing = y_indexing.sum()\n",
    "\n",
    "# 역전파 시 오류 발생\n",
    "try:\n",
    "    loss_indexing.backward()\n",
    "except RuntimeError as e:\n",
    "    print(\"\\nError with indexing + detach:\", e)\n"
   ]
  },
  {
   "cell_type": "markdown",
   "metadata": {},
   "source": []
  }
 ],
 "metadata": {
  "language_info": {
   "name": "python"
  }
 },
 "nbformat": 4,
 "nbformat_minor": 2
}
